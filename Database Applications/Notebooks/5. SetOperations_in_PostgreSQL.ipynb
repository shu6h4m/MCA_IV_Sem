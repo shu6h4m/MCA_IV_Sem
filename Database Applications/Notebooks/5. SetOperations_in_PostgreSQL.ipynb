{
 "cells": [
  {
   "cell_type": "markdown",
   "id": "0120b8ed",
   "metadata": {},
   "source": [
    "### SET operations"
   ]
  },
  {
   "cell_type": "code",
   "execution_count": 12,
   "id": "5a3abb62",
   "metadata": {},
   "outputs": [],
   "source": [
    "import psycopg2\n",
    "#import library pandas\n",
    "import pandas as pd\n",
    "#import library sqlio\n",
    "import pandas.io.sql as sqlio\n"
   ]
  },
  {
   "cell_type": "code",
   "execution_count": 13,
   "id": "2d710dc9",
   "metadata": {},
   "outputs": [],
   "source": [
    "#create database connection variable \n",
    "conn = psycopg2.connect(user=\"postgres\", password=\"root1234\", host=\"localhost\", database=\"DVDRental\")"
   ]
  },
  {
   "cell_type": "markdown",
   "id": "9a84b5f2",
   "metadata": {},
   "source": [
    "### Sample tables \n",
    "DROP TABLE IF EXISTS top_rated_films;\n",
    "CREATE TABLE top_rated_films(\n",
    "\ttitle VARCHAR NOT NULL,\n",
    "\trelease_year SMALLINT\n",
    ");\n",
    "\n",
    "DROP TABLE IF EXISTS most_popular_films;\n",
    "CREATE TABLE most_popular_films(\n",
    "\ttitle VARCHAR NOT NULL,\n",
    "\trelease_year SMALLINT\n",
    ");\n",
    "\n",
    "INSERT INTO \n",
    "   top_rated_films(title,release_year)\n",
    "VALUES\n",
    "   ('The Shawshank Redemption',1994),\n",
    "   ('The Godfather',1972),\n",
    "   ('12 Angry Men',1957);\n",
    "\n",
    "INSERT INTO \n",
    "   most_popular_films(title,release_year)\n",
    "VALUES\n",
    "   ('An American Pickle',2020),\n",
    "   ('The Godfather',1972),\n",
    "   ('Greyhound',2020);  "
   ]
  },
  {
   "cell_type": "markdown",
   "id": "0f18260b",
   "metadata": {},
   "source": [
    "#### Content of Table \"top_rated_films\""
   ]
  },
  {
   "cell_type": "code",
   "execution_count": 14,
   "id": "2853ec02",
   "metadata": {},
   "outputs": [
    {
     "data": {
      "text/html": [
       "<div>\n",
       "<style scoped>\n",
       "    .dataframe tbody tr th:only-of-type {\n",
       "        vertical-align: middle;\n",
       "    }\n",
       "\n",
       "    .dataframe tbody tr th {\n",
       "        vertical-align: top;\n",
       "    }\n",
       "\n",
       "    .dataframe thead th {\n",
       "        text-align: right;\n",
       "    }\n",
       "</style>\n",
       "<table border=\"1\" class=\"dataframe\">\n",
       "  <thead>\n",
       "    <tr style=\"text-align: right;\">\n",
       "      <th></th>\n",
       "      <th>title</th>\n",
       "      <th>release_year</th>\n",
       "    </tr>\n",
       "  </thead>\n",
       "  <tbody>\n",
       "    <tr>\n",
       "      <th>0</th>\n",
       "      <td>The Shawshank Redemption</td>\n",
       "      <td>1994</td>\n",
       "    </tr>\n",
       "    <tr>\n",
       "      <th>1</th>\n",
       "      <td>The Godfather</td>\n",
       "      <td>1972</td>\n",
       "    </tr>\n",
       "    <tr>\n",
       "      <th>2</th>\n",
       "      <td>12 Angry Men</td>\n",
       "      <td>1957</td>\n",
       "    </tr>\n",
       "  </tbody>\n",
       "</table>\n",
       "</div>"
      ],
      "text/plain": [
       "                      title  release_year\n",
       "0  The Shawshank Redemption          1994\n",
       "1             The Godfather          1972\n",
       "2              12 Angry Men          1957"
      ]
     },
     "execution_count": 14,
     "metadata": {},
     "output_type": "execute_result"
    }
   ],
   "source": [
    "query = \"\"\"select * from top_rated_films; \"\"\"\n",
    "sqlio.read_sql_query(query,conn)"
   ]
  },
  {
   "cell_type": "markdown",
   "id": "f0ddd1a7",
   "metadata": {},
   "source": [
    "#### Content of Table \"most_popular_films\""
   ]
  },
  {
   "cell_type": "code",
   "execution_count": 15,
   "id": "95e844eb",
   "metadata": {},
   "outputs": [
    {
     "data": {
      "text/html": [
       "<div>\n",
       "<style scoped>\n",
       "    .dataframe tbody tr th:only-of-type {\n",
       "        vertical-align: middle;\n",
       "    }\n",
       "\n",
       "    .dataframe tbody tr th {\n",
       "        vertical-align: top;\n",
       "    }\n",
       "\n",
       "    .dataframe thead th {\n",
       "        text-align: right;\n",
       "    }\n",
       "</style>\n",
       "<table border=\"1\" class=\"dataframe\">\n",
       "  <thead>\n",
       "    <tr style=\"text-align: right;\">\n",
       "      <th></th>\n",
       "      <th>title</th>\n",
       "      <th>release_year</th>\n",
       "    </tr>\n",
       "  </thead>\n",
       "  <tbody>\n",
       "    <tr>\n",
       "      <th>0</th>\n",
       "      <td>An American Pickle</td>\n",
       "      <td>2020</td>\n",
       "    </tr>\n",
       "    <tr>\n",
       "      <th>1</th>\n",
       "      <td>The Godfather</td>\n",
       "      <td>1972</td>\n",
       "    </tr>\n",
       "    <tr>\n",
       "      <th>2</th>\n",
       "      <td>Greyhound</td>\n",
       "      <td>2020</td>\n",
       "    </tr>\n",
       "  </tbody>\n",
       "</table>\n",
       "</div>"
      ],
      "text/plain": [
       "                title  release_year\n",
       "0  An American Pickle          2020\n",
       "1       The Godfather          1972\n",
       "2           Greyhound          2020"
      ]
     },
     "execution_count": 15,
     "metadata": {},
     "output_type": "execute_result"
    }
   ],
   "source": [
    "query = \"\"\"select * from most_popular_films; \"\"\"\n",
    "sqlio.read_sql_query(query,conn)"
   ]
  },
  {
   "cell_type": "markdown",
   "id": "60a43789",
   "metadata": {},
   "source": [
    "UNION operator\n",
    "1. Combines result set of two or more SELECT statements into a single result set\n",
    "2. To use union operator\n",
    "   * number and order of the columns in the select list of both queries must be the same.\n",
    "   * data types must be compatible"
   ]
  },
  {
   "cell_type": "markdown",
   "id": "ef0cffee",
   "metadata": {},
   "source": [
    "UNION operator - removes all duplicate rows from the combines data set.\n",
    "**To retain the duplicate rows, use the UNION ALL operator**"
   ]
  },
  {
   "cell_type": "code",
   "execution_count": 21,
   "id": "5325fe50",
   "metadata": {},
   "outputs": [
    {
     "data": {
      "text/html": [
       "<div>\n",
       "<style scoped>\n",
       "    .dataframe tbody tr th:only-of-type {\n",
       "        vertical-align: middle;\n",
       "    }\n",
       "\n",
       "    .dataframe tbody tr th {\n",
       "        vertical-align: top;\n",
       "    }\n",
       "\n",
       "    .dataframe thead th {\n",
       "        text-align: right;\n",
       "    }\n",
       "</style>\n",
       "<table border=\"1\" class=\"dataframe\">\n",
       "  <thead>\n",
       "    <tr style=\"text-align: right;\">\n",
       "      <th></th>\n",
       "      <th>title</th>\n",
       "      <th>release_year</th>\n",
       "    </tr>\n",
       "  </thead>\n",
       "  <tbody>\n",
       "    <tr>\n",
       "      <th>0</th>\n",
       "      <td>An American Pickle</td>\n",
       "      <td>2020</td>\n",
       "    </tr>\n",
       "    <tr>\n",
       "      <th>1</th>\n",
       "      <td>Greyhound</td>\n",
       "      <td>2020</td>\n",
       "    </tr>\n",
       "    <tr>\n",
       "      <th>2</th>\n",
       "      <td>The Shawshank Redemption</td>\n",
       "      <td>1994</td>\n",
       "    </tr>\n",
       "    <tr>\n",
       "      <th>3</th>\n",
       "      <td>The Godfather</td>\n",
       "      <td>1972</td>\n",
       "    </tr>\n",
       "    <tr>\n",
       "      <th>4</th>\n",
       "      <td>12 Angry Men</td>\n",
       "      <td>1957</td>\n",
       "    </tr>\n",
       "  </tbody>\n",
       "</table>\n",
       "</div>"
      ],
      "text/plain": [
       "                      title  release_year\n",
       "0        An American Pickle          2020\n",
       "1                 Greyhound          2020\n",
       "2  The Shawshank Redemption          1994\n",
       "3             The Godfather          1972\n",
       "4              12 Angry Men          1957"
      ]
     },
     "execution_count": 21,
     "metadata": {},
     "output_type": "execute_result"
    }
   ],
   "source": [
    "query = \"\"\"SELECT * FROM top_rated_films\n",
    "            UNION\n",
    "            SELECT * FROM most_popular_films; \"\"\"\n",
    "sqlio.read_sql_query(query,conn)"
   ]
  },
  {
   "cell_type": "markdown",
   "id": "1b8a0eab",
   "metadata": {},
   "source": [
    "The result set from above query removes duplicates"
   ]
  },
  {
   "cell_type": "markdown",
   "id": "0b384706",
   "metadata": {},
   "source": [
    "**UNION ALL: to keep all the duplicates"
   ]
  },
  {
   "cell_type": "code",
   "execution_count": 22,
   "id": "3b09ac92",
   "metadata": {},
   "outputs": [
    {
     "data": {
      "text/html": [
       "<div>\n",
       "<style scoped>\n",
       "    .dataframe tbody tr th:only-of-type {\n",
       "        vertical-align: middle;\n",
       "    }\n",
       "\n",
       "    .dataframe tbody tr th {\n",
       "        vertical-align: top;\n",
       "    }\n",
       "\n",
       "    .dataframe thead th {\n",
       "        text-align: right;\n",
       "    }\n",
       "</style>\n",
       "<table border=\"1\" class=\"dataframe\">\n",
       "  <thead>\n",
       "    <tr style=\"text-align: right;\">\n",
       "      <th></th>\n",
       "      <th>title</th>\n",
       "      <th>release_year</th>\n",
       "    </tr>\n",
       "  </thead>\n",
       "  <tbody>\n",
       "    <tr>\n",
       "      <th>0</th>\n",
       "      <td>The Shawshank Redemption</td>\n",
       "      <td>1994</td>\n",
       "    </tr>\n",
       "    <tr>\n",
       "      <th>1</th>\n",
       "      <td>The Godfather</td>\n",
       "      <td>1972</td>\n",
       "    </tr>\n",
       "    <tr>\n",
       "      <th>2</th>\n",
       "      <td>12 Angry Men</td>\n",
       "      <td>1957</td>\n",
       "    </tr>\n",
       "    <tr>\n",
       "      <th>3</th>\n",
       "      <td>An American Pickle</td>\n",
       "      <td>2020</td>\n",
       "    </tr>\n",
       "    <tr>\n",
       "      <th>4</th>\n",
       "      <td>The Godfather</td>\n",
       "      <td>1972</td>\n",
       "    </tr>\n",
       "    <tr>\n",
       "      <th>5</th>\n",
       "      <td>Greyhound</td>\n",
       "      <td>2020</td>\n",
       "    </tr>\n",
       "  </tbody>\n",
       "</table>\n",
       "</div>"
      ],
      "text/plain": [
       "                      title  release_year\n",
       "0  The Shawshank Redemption          1994\n",
       "1             The Godfather          1972\n",
       "2              12 Angry Men          1957\n",
       "3        An American Pickle          2020\n",
       "4             The Godfather          1972\n",
       "5                 Greyhound          2020"
      ]
     },
     "execution_count": 22,
     "metadata": {},
     "output_type": "execute_result"
    }
   ],
   "source": [
    "query = \"\"\"SELECT * FROM top_rated_films\n",
    "           UNION ALL\n",
    "           SELECT * FROM most_popular_films;\"\"\"\n",
    "sqlio.read_sql_query(query,conn)"
   ]
  },
  {
   "cell_type": "markdown",
   "id": "e9323657",
   "metadata": {},
   "source": [
    "UNION operator with **order by** clause"
   ]
  },
  {
   "cell_type": "code",
   "execution_count": 18,
   "id": "3e8b32e3",
   "metadata": {},
   "outputs": [
    {
     "data": {
      "text/html": [
       "<div>\n",
       "<style scoped>\n",
       "    .dataframe tbody tr th:only-of-type {\n",
       "        vertical-align: middle;\n",
       "    }\n",
       "\n",
       "    .dataframe tbody tr th {\n",
       "        vertical-align: top;\n",
       "    }\n",
       "\n",
       "    .dataframe thead th {\n",
       "        text-align: right;\n",
       "    }\n",
       "</style>\n",
       "<table border=\"1\" class=\"dataframe\">\n",
       "  <thead>\n",
       "    <tr style=\"text-align: right;\">\n",
       "      <th></th>\n",
       "      <th>title</th>\n",
       "      <th>release_year</th>\n",
       "    </tr>\n",
       "  </thead>\n",
       "  <tbody>\n",
       "    <tr>\n",
       "      <th>0</th>\n",
       "      <td>12 Angry Men</td>\n",
       "      <td>1957</td>\n",
       "    </tr>\n",
       "    <tr>\n",
       "      <th>1</th>\n",
       "      <td>The Godfather</td>\n",
       "      <td>1972</td>\n",
       "    </tr>\n",
       "    <tr>\n",
       "      <th>2</th>\n",
       "      <td>The Godfather</td>\n",
       "      <td>1972</td>\n",
       "    </tr>\n",
       "    <tr>\n",
       "      <th>3</th>\n",
       "      <td>The Shawshank Redemption</td>\n",
       "      <td>1994</td>\n",
       "    </tr>\n",
       "    <tr>\n",
       "      <th>4</th>\n",
       "      <td>An American Pickle</td>\n",
       "      <td>2020</td>\n",
       "    </tr>\n",
       "    <tr>\n",
       "      <th>5</th>\n",
       "      <td>Greyhound</td>\n",
       "      <td>2020</td>\n",
       "    </tr>\n",
       "  </tbody>\n",
       "</table>\n",
       "</div>"
      ],
      "text/plain": [
       "                      title  release_year\n",
       "0              12 Angry Men          1957\n",
       "1             The Godfather          1972\n",
       "2             The Godfather          1972\n",
       "3  The Shawshank Redemption          1994\n",
       "4        An American Pickle          2020\n",
       "5                 Greyhound          2020"
      ]
     },
     "execution_count": 18,
     "metadata": {},
     "output_type": "execute_result"
    }
   ],
   "source": [
    "query = \"\"\"SELECT * FROM top_rated_films\n",
    "           UNION ALL\n",
    "           SELECT * FROM most_popular_films\n",
    "           ORDER BY release_year;\"\"\"\n",
    "sqlio.read_sql_query(query,conn)"
   ]
  },
  {
   "cell_type": "markdown",
   "id": "4ee87d06",
   "metadata": {},
   "source": [
    "### INTERESECT operator \n",
    "* returns any rows that are available in both result sets"
   ]
  },
  {
   "cell_type": "markdown",
   "id": "0e270a46",
   "metadata": {},
   "source": [
    "Rules to use intersect operator:\n",
    "1. number of columns and their order in the SELECT clauses must be the same\n",
    "2. data types of the columns must be compatible   "
   ]
  },
  {
   "cell_type": "markdown",
   "id": "a1e5a7d5",
   "metadata": {},
   "source": [
    "**Write a query to select films which are top_rated_films which are popular as well.**"
   ]
  },
  {
   "cell_type": "code",
   "execution_count": 23,
   "id": "68be7af1",
   "metadata": {},
   "outputs": [
    {
     "data": {
      "text/html": [
       "<div>\n",
       "<style scoped>\n",
       "    .dataframe tbody tr th:only-of-type {\n",
       "        vertical-align: middle;\n",
       "    }\n",
       "\n",
       "    .dataframe tbody tr th {\n",
       "        vertical-align: top;\n",
       "    }\n",
       "\n",
       "    .dataframe thead th {\n",
       "        text-align: right;\n",
       "    }\n",
       "</style>\n",
       "<table border=\"1\" class=\"dataframe\">\n",
       "  <thead>\n",
       "    <tr style=\"text-align: right;\">\n",
       "      <th></th>\n",
       "      <th>title</th>\n",
       "      <th>release_year</th>\n",
       "    </tr>\n",
       "  </thead>\n",
       "  <tbody>\n",
       "    <tr>\n",
       "      <th>0</th>\n",
       "      <td>The Godfather</td>\n",
       "      <td>1972</td>\n",
       "    </tr>\n",
       "  </tbody>\n",
       "</table>\n",
       "</div>"
      ],
      "text/plain": [
       "           title  release_year\n",
       "0  The Godfather          1972"
      ]
     },
     "execution_count": 23,
     "metadata": {},
     "output_type": "execute_result"
    }
   ],
   "source": [
    "query = \"\"\"SELECT * FROM most_popular_films \n",
    "           INTERSECT\n",
    "           SELECT * FROM top_rated_films;\"\"\"\n",
    "sqlio.read_sql_query(query,conn)"
   ]
  },
  {
   "cell_type": "markdown",
   "id": "17698365",
   "metadata": {},
   "source": [
    "### EXCEPT operator \n",
    "* returns the rows in the first query that do not appear in the output of the second query"
   ]
  },
  {
   "cell_type": "markdown",
   "id": "e0a2cccf",
   "metadata": {},
   "source": [
    "**Write a query to find the top-rated films that are not popular"
   ]
  },
  {
   "cell_type": "code",
   "execution_count": 24,
   "id": "2899e450",
   "metadata": {},
   "outputs": [
    {
     "data": {
      "text/html": [
       "<div>\n",
       "<style scoped>\n",
       "    .dataframe tbody tr th:only-of-type {\n",
       "        vertical-align: middle;\n",
       "    }\n",
       "\n",
       "    .dataframe tbody tr th {\n",
       "        vertical-align: top;\n",
       "    }\n",
       "\n",
       "    .dataframe thead th {\n",
       "        text-align: right;\n",
       "    }\n",
       "</style>\n",
       "<table border=\"1\" class=\"dataframe\">\n",
       "  <thead>\n",
       "    <tr style=\"text-align: right;\">\n",
       "      <th></th>\n",
       "      <th>title</th>\n",
       "      <th>release_year</th>\n",
       "    </tr>\n",
       "  </thead>\n",
       "  <tbody>\n",
       "    <tr>\n",
       "      <th>0</th>\n",
       "      <td>The Shawshank Redemption</td>\n",
       "      <td>1994</td>\n",
       "    </tr>\n",
       "    <tr>\n",
       "      <th>1</th>\n",
       "      <td>12 Angry Men</td>\n",
       "      <td>1957</td>\n",
       "    </tr>\n",
       "  </tbody>\n",
       "</table>\n",
       "</div>"
      ],
      "text/plain": [
       "                      title  release_year\n",
       "0  The Shawshank Redemption          1994\n",
       "1              12 Angry Men          1957"
      ]
     },
     "execution_count": 24,
     "metadata": {},
     "output_type": "execute_result"
    }
   ],
   "source": [
    "query = \"\"\"SELECT * FROM top_rated_films\n",
    "           EXCEPT \n",
    "           SELECT * FROM most_popular_films;\"\"\"\n",
    "sqlio.read_sql_query(query,conn)"
   ]
  },
  {
   "cell_type": "code",
   "execution_count": null,
   "id": "703637e0",
   "metadata": {},
   "outputs": [],
   "source": []
  },
  {
   "cell_type": "code",
   "execution_count": null,
   "id": "a7c713ad",
   "metadata": {},
   "outputs": [],
   "source": []
  }
 ],
 "metadata": {
  "kernelspec": {
   "display_name": "Python 3 (ipykernel)",
   "language": "python",
   "name": "python3"
  },
  "language_info": {
   "codemirror_mode": {
    "name": "ipython",
    "version": 3
   },
   "file_extension": ".py",
   "mimetype": "text/x-python",
   "name": "python",
   "nbconvert_exporter": "python",
   "pygments_lexer": "ipython3",
   "version": "3.9.7"
  }
 },
 "nbformat": 4,
 "nbformat_minor": 5
}
