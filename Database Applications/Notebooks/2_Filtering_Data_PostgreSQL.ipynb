{
  "cells": [
    {
      "cell_type": "markdown",
      "id": "d237623e",
      "metadata": {
        "id": "d237623e"
      },
      "source": [
        "https://ifeadewumi.medium.com/how-to-run-sql-queries-from-jupyter-a1bf2d040c83"
      ]
    },
    {
      "cell_type": "markdown",
      "id": "8e08594d",
      "metadata": {
        "id": "8e08594d"
      },
      "source": [
        "https://hakibenita.medium.com/be-careful-with-cte-in-postgresql-fca5e24d2119"
      ]
    },
    {
      "cell_type": "markdown",
      "id": "44d36280",
      "metadata": {
        "id": "44d36280"
      },
      "source": [
        "### Import required libraries\n",
        "* **psycopg2**: Psycopg is the most popular PostgreSQL database adapter for the Python programming language<br>\n",
        "Installation: !pip install psycopg2\n",
        "* **pandas**: open source library providing high-performance, easy-to-use data structures and data analysis tools for the Python programming language.\n",
        "* **pandas.io.sql** :Pull the results of a SQL query directly into a pandas dataframe\n"
      ]
    },
    {
      "cell_type": "code",
      "execution_count": null,
      "id": "8b834000",
      "metadata": {
        "id": "8b834000"
      },
      "outputs": [],
      "source": [
        "import psycopg2\n",
        "#import library pandas\n",
        "import pandas as pd\n",
        "#import library sqlio\n",
        "import pandas.io.sql as sqlio"
      ]
    },
    {
      "cell_type": "code",
      "execution_count": null,
      "id": "33708bad",
      "metadata": {
        "id": "33708bad"
      },
      "outputs": [],
      "source": [
        "#create database connection variable \n",
        "conn = psycopg2.connect(user=\"postgres\", password=\"root1234\", host=\"localhost\", database=\"DVDRental\")"
      ]
    },
    {
      "cell_type": "code",
      "execution_count": null,
      "id": "d097bc15",
      "metadata": {
        "id": "d097bc15"
      },
      "outputs": [],
      "source": [
        "#define query\n",
        "query = \"select * from customer c;\""
      ]
    },
    {
      "cell_type": "code",
      "execution_count": null,
      "id": "24d45bbf",
      "metadata": {
        "id": "24d45bbf"
      },
      "outputs": [],
      "source": [
        "#execute query and save it to a variable\n",
        "dataset = sqlio.read_sql_query(query,conn)"
      ]
    },
    {
      "cell_type": "code",
      "execution_count": null,
      "id": "2c62fac0",
      "metadata": {
        "id": "2c62fac0",
        "outputId": "ff5124b0-b611-47a6-94bb-caa71ddd39cd"
      },
      "outputs": [
        {
          "data": {
            "text/html": [
              "<div>\n",
              "<style scoped>\n",
              "    .dataframe tbody tr th:only-of-type {\n",
              "        vertical-align: middle;\n",
              "    }\n",
              "\n",
              "    .dataframe tbody tr th {\n",
              "        vertical-align: top;\n",
              "    }\n",
              "\n",
              "    .dataframe thead th {\n",
              "        text-align: right;\n",
              "    }\n",
              "</style>\n",
              "<table border=\"1\" class=\"dataframe\">\n",
              "  <thead>\n",
              "    <tr style=\"text-align: right;\">\n",
              "      <th></th>\n",
              "      <th>customer_id</th>\n",
              "      <th>store_id</th>\n",
              "      <th>first_name</th>\n",
              "      <th>last_name</th>\n",
              "      <th>email</th>\n",
              "      <th>address_id</th>\n",
              "      <th>activebool</th>\n",
              "      <th>create_date</th>\n",
              "      <th>last_update</th>\n",
              "      <th>active</th>\n",
              "    </tr>\n",
              "  </thead>\n",
              "  <tbody>\n",
              "    <tr>\n",
              "      <th>0</th>\n",
              "      <td>524</td>\n",
              "      <td>1</td>\n",
              "      <td>Jared</td>\n",
              "      <td>Ely</td>\n",
              "      <td>jared.ely@sakilacustomer.org</td>\n",
              "      <td>530</td>\n",
              "      <td>True</td>\n",
              "      <td>2006-02-14</td>\n",
              "      <td>2013-05-26 14:49:45.738</td>\n",
              "      <td>1</td>\n",
              "    </tr>\n",
              "    <tr>\n",
              "      <th>1</th>\n",
              "      <td>1</td>\n",
              "      <td>1</td>\n",
              "      <td>Mary</td>\n",
              "      <td>Smith</td>\n",
              "      <td>mary.smith@sakilacustomer.org</td>\n",
              "      <td>5</td>\n",
              "      <td>True</td>\n",
              "      <td>2006-02-14</td>\n",
              "      <td>2013-05-26 14:49:45.738</td>\n",
              "      <td>1</td>\n",
              "    </tr>\n",
              "    <tr>\n",
              "      <th>2</th>\n",
              "      <td>2</td>\n",
              "      <td>1</td>\n",
              "      <td>Patricia</td>\n",
              "      <td>Johnson</td>\n",
              "      <td>patricia.johnson@sakilacustomer.org</td>\n",
              "      <td>6</td>\n",
              "      <td>True</td>\n",
              "      <td>2006-02-14</td>\n",
              "      <td>2013-05-26 14:49:45.738</td>\n",
              "      <td>1</td>\n",
              "    </tr>\n",
              "    <tr>\n",
              "      <th>3</th>\n",
              "      <td>3</td>\n",
              "      <td>1</td>\n",
              "      <td>Linda</td>\n",
              "      <td>Williams</td>\n",
              "      <td>linda.williams@sakilacustomer.org</td>\n",
              "      <td>7</td>\n",
              "      <td>True</td>\n",
              "      <td>2006-02-14</td>\n",
              "      <td>2013-05-26 14:49:45.738</td>\n",
              "      <td>1</td>\n",
              "    </tr>\n",
              "    <tr>\n",
              "      <th>4</th>\n",
              "      <td>4</td>\n",
              "      <td>2</td>\n",
              "      <td>Barbara</td>\n",
              "      <td>Jones</td>\n",
              "      <td>barbara.jones@sakilacustomer.org</td>\n",
              "      <td>8</td>\n",
              "      <td>True</td>\n",
              "      <td>2006-02-14</td>\n",
              "      <td>2013-05-26 14:49:45.738</td>\n",
              "      <td>1</td>\n",
              "    </tr>\n",
              "  </tbody>\n",
              "</table>\n",
              "</div>"
            ],
            "text/plain": [
              "   customer_id  store_id first_name last_name  \\\n",
              "0          524         1      Jared       Ely   \n",
              "1            1         1       Mary     Smith   \n",
              "2            2         1   Patricia   Johnson   \n",
              "3            3         1      Linda  Williams   \n",
              "4            4         2    Barbara     Jones   \n",
              "\n",
              "                                 email  address_id  activebool create_date  \\\n",
              "0         jared.ely@sakilacustomer.org         530        True  2006-02-14   \n",
              "1        mary.smith@sakilacustomer.org           5        True  2006-02-14   \n",
              "2  patricia.johnson@sakilacustomer.org           6        True  2006-02-14   \n",
              "3    linda.williams@sakilacustomer.org           7        True  2006-02-14   \n",
              "4     barbara.jones@sakilacustomer.org           8        True  2006-02-14   \n",
              "\n",
              "              last_update  active  \n",
              "0 2013-05-26 14:49:45.738       1  \n",
              "1 2013-05-26 14:49:45.738       1  \n",
              "2 2013-05-26 14:49:45.738       1  \n",
              "3 2013-05-26 14:49:45.738       1  \n",
              "4 2013-05-26 14:49:45.738       1  "
            ]
          },
          "execution_count": 7,
          "metadata": {},
          "output_type": "execute_result"
        }
      ],
      "source": [
        "dataset.head()"
      ]
    },
    {
      "cell_type": "markdown",
      "id": "f994bdf6",
      "metadata": {
        "id": "f994bdf6"
      },
      "source": [
        "### Where Command\n",
        "select rows that satisfy a specified condition."
      ]
    },
    {
      "cell_type": "markdown",
      "id": "0599db14",
      "metadata": {
        "id": "0599db14"
      },
      "source": [
        "To form the condition in the WHERE clause, comparison and logical operators such as AND, OR, IN, BETWEEN, LIKE, IS NULL, NOT operator"
      ]
    },
    {
      "cell_type": "markdown",
      "id": "603a67f0",
      "metadata": {
        "id": "603a67f0"
      },
      "source": [
        "Find the names of customers whose first names are 'Jamie'"
      ]
    },
    {
      "cell_type": "code",
      "execution_count": null,
      "id": "938d3068",
      "metadata": {
        "id": "938d3068",
        "outputId": "95bc5c6a-ce88-489f-8cec-01fcd60b2a41"
      },
      "outputs": [
        {
          "data": {
            "text/html": [
              "<div>\n",
              "<style scoped>\n",
              "    .dataframe tbody tr th:only-of-type {\n",
              "        vertical-align: middle;\n",
              "    }\n",
              "\n",
              "    .dataframe tbody tr th {\n",
              "        vertical-align: top;\n",
              "    }\n",
              "\n",
              "    .dataframe thead th {\n",
              "        text-align: right;\n",
              "    }\n",
              "</style>\n",
              "<table border=\"1\" class=\"dataframe\">\n",
              "  <thead>\n",
              "    <tr style=\"text-align: right;\">\n",
              "      <th></th>\n",
              "      <th>last_name</th>\n",
              "      <th>first_name</th>\n",
              "    </tr>\n",
              "  </thead>\n",
              "  <tbody>\n",
              "    <tr>\n",
              "      <th>0</th>\n",
              "      <td>Rice</td>\n",
              "      <td>Jamie</td>\n",
              "    </tr>\n",
              "    <tr>\n",
              "      <th>1</th>\n",
              "      <td>Waugh</td>\n",
              "      <td>Jamie</td>\n",
              "    </tr>\n",
              "  </tbody>\n",
              "</table>\n",
              "</div>"
            ],
            "text/plain": [
              "  last_name first_name\n",
              "0      Rice      Jamie\n",
              "1     Waugh      Jamie"
            ]
          },
          "execution_count": 8,
          "metadata": {},
          "output_type": "execute_result"
        }
      ],
      "source": [
        "query = \"SELECT last_name, first_name FROM customer WHERE first_name = 'Jamie';\"\n",
        "\n",
        "#execute query and save it to a variable\n",
        "sqlio.read_sql_query(query,conn)"
      ]
    },
    {
      "cell_type": "markdown",
      "id": "6c1f3adb",
      "metadata": {
        "id": "6c1f3adb"
      },
      "source": [
        "### Limit clause\n",
        "\n",
        "1. limit is an optional clause of the select statement \n",
        "2. constraints the number of rows returned by the query."
      ]
    },
    {
      "cell_type": "markdown",
      "id": "0e783ba4",
      "metadata": {
        "id": "0e783ba4"
      },
      "source": [
        "Syntex of the **Limit** Clause:<br>\n",
        "**SELECT select_list <br>\n",
        "FROM table_name<br>\n",
        "ORDER BY sort_expression <br>\n",
        "LIMIT row_count**"
      ]
    },
    {
      "cell_type": "markdown",
      "id": "928a3de5",
      "metadata": {
        "id": "928a3de5"
      },
      "source": [
        "row_count= 0, the query returns an empty set. <br>\n",
        "row_count = NULL, the query returns the same result set as it does not have the LIMIT clause."
      ]
    },
    {
      "cell_type": "code",
      "execution_count": null,
      "id": "03cf22d4",
      "metadata": {
        "id": "03cf22d4",
        "outputId": "de2738fc-0e88-476f-e756-5868a6b4701b"
      },
      "outputs": [
        {
          "data": {
            "text/html": [
              "<div>\n",
              "<style scoped>\n",
              "    .dataframe tbody tr th:only-of-type {\n",
              "        vertical-align: middle;\n",
              "    }\n",
              "\n",
              "    .dataframe tbody tr th {\n",
              "        vertical-align: top;\n",
              "    }\n",
              "\n",
              "    .dataframe thead th {\n",
              "        text-align: right;\n",
              "    }\n",
              "</style>\n",
              "<table border=\"1\" class=\"dataframe\">\n",
              "  <thead>\n",
              "    <tr style=\"text-align: right;\">\n",
              "      <th></th>\n",
              "      <th>film_id</th>\n",
              "      <th>title</th>\n",
              "      <th>release_year</th>\n",
              "    </tr>\n",
              "  </thead>\n",
              "  <tbody>\n",
              "    <tr>\n",
              "      <th>0</th>\n",
              "      <td>1</td>\n",
              "      <td>Academy Dinosaur</td>\n",
              "      <td>2006</td>\n",
              "    </tr>\n",
              "    <tr>\n",
              "      <th>1</th>\n",
              "      <td>2</td>\n",
              "      <td>Ace Goldfinger</td>\n",
              "      <td>2006</td>\n",
              "    </tr>\n",
              "    <tr>\n",
              "      <th>2</th>\n",
              "      <td>3</td>\n",
              "      <td>Adaptation Holes</td>\n",
              "      <td>2006</td>\n",
              "    </tr>\n",
              "    <tr>\n",
              "      <th>3</th>\n",
              "      <td>4</td>\n",
              "      <td>Affair Prejudice</td>\n",
              "      <td>2006</td>\n",
              "    </tr>\n",
              "    <tr>\n",
              "      <th>4</th>\n",
              "      <td>5</td>\n",
              "      <td>African Egg</td>\n",
              "      <td>2006</td>\n",
              "    </tr>\n",
              "  </tbody>\n",
              "</table>\n",
              "</div>"
            ],
            "text/plain": [
              "   film_id             title  release_year\n",
              "0        1  Academy Dinosaur          2006\n",
              "1        2    Ace Goldfinger          2006\n",
              "2        3  Adaptation Holes          2006\n",
              "3        4  Affair Prejudice          2006\n",
              "4        5       African Egg          2006"
            ]
          },
          "execution_count": 11,
          "metadata": {},
          "output_type": "execute_result"
        }
      ],
      "source": [
        "query = \"select film_id, title, release_year from film ORDER by film_id LIMIT 5;\"\n",
        "\n",
        "sqlio.read_sql_query(query,conn)"
      ]
    },
    {
      "cell_type": "markdown",
      "id": "262149b5",
      "metadata": {
        "id": "262149b5"
      },
      "source": [
        "### Limit with OFFSET\n",
        "OFFSET - skips a number of rows before returning the 'row_count rows'"
      ]
    },
    {
      "cell_type": "code",
      "execution_count": null,
      "id": "a4f51cf7",
      "metadata": {
        "id": "a4f51cf7",
        "outputId": "d8d14040-7b7f-4c66-b067-14f344a7383b"
      },
      "outputs": [
        {
          "data": {
            "text/html": [
              "<div>\n",
              "<style scoped>\n",
              "    .dataframe tbody tr th:only-of-type {\n",
              "        vertical-align: middle;\n",
              "    }\n",
              "\n",
              "    .dataframe tbody tr th {\n",
              "        vertical-align: top;\n",
              "    }\n",
              "\n",
              "    .dataframe thead th {\n",
              "        text-align: right;\n",
              "    }\n",
              "</style>\n",
              "<table border=\"1\" class=\"dataframe\">\n",
              "  <thead>\n",
              "    <tr style=\"text-align: right;\">\n",
              "      <th></th>\n",
              "      <th>film_id</th>\n",
              "      <th>title</th>\n",
              "      <th>release_year</th>\n",
              "    </tr>\n",
              "  </thead>\n",
              "  <tbody>\n",
              "    <tr>\n",
              "      <th>0</th>\n",
              "      <td>4</td>\n",
              "      <td>Affair Prejudice</td>\n",
              "      <td>2006</td>\n",
              "    </tr>\n",
              "    <tr>\n",
              "      <th>1</th>\n",
              "      <td>5</td>\n",
              "      <td>African Egg</td>\n",
              "      <td>2006</td>\n",
              "    </tr>\n",
              "    <tr>\n",
              "      <th>2</th>\n",
              "      <td>6</td>\n",
              "      <td>Agent Truman</td>\n",
              "      <td>2006</td>\n",
              "    </tr>\n",
              "    <tr>\n",
              "      <th>3</th>\n",
              "      <td>7</td>\n",
              "      <td>Airplane Sierra</td>\n",
              "      <td>2006</td>\n",
              "    </tr>\n",
              "  </tbody>\n",
              "</table>\n",
              "</div>"
            ],
            "text/plain": [
              "   film_id             title  release_year\n",
              "0        4  Affair Prejudice          2006\n",
              "1        5       African Egg          2006\n",
              "2        6      Agent Truman          2006\n",
              "3        7   Airplane Sierra          2006"
            ]
          },
          "execution_count": 12,
          "metadata": {},
          "output_type": "execute_result"
        }
      ],
      "source": [
        "query = \"select film_id, title, release_year from film ORDER by film_id LIMIT 4 OFFSET 3\";\n",
        "sqlio.read_sql_query(query,conn)"
      ]
    },
    {
      "cell_type": "markdown",
      "id": "8cfaa3ff",
      "metadata": {
        "id": "8cfaa3ff"
      },
      "source": [
        "### Fetch Clause \n",
        "1. used to retrieve a portion of rows returned by a query\n",
        "2. fetch is **functionally equivalent** to limit \n",
        "3. to make your application compatible with other database systems, FETCH should be used.\n",
        "4. FETCH uses standard SQL"
      ]
    },
    {
      "cell_type": "markdown",
      "id": "aec773b3",
      "metadata": {
        "id": "aec773b3"
      },
      "source": [
        "### Syntex\n",
        "OFFSET start { ROW | ROWS } <br>\n",
        "FETCH { FIRST | NEXT } [ row_count ] { ROW | ROWS } ONLY <br>\n",
        "** Row/Rows   - both can be used interchanageably\n",
        "** First/Next - both can be used interchanageably"
      ]
    },
    {
      "cell_type": "markdown",
      "id": "7ef29911",
      "metadata": {
        "id": "7ef29911"
      },
      "source": [
        "#### Select the first film sorted by titles in ascending order"
      ]
    },
    {
      "cell_type": "code",
      "execution_count": null,
      "id": "abae60ea",
      "metadata": {
        "id": "abae60ea",
        "outputId": "4ad60a33-e757-463e-b232-d59212c82611"
      },
      "outputs": [
        {
          "data": {
            "text/html": [
              "<div>\n",
              "<style scoped>\n",
              "    .dataframe tbody tr th:only-of-type {\n",
              "        vertical-align: middle;\n",
              "    }\n",
              "\n",
              "    .dataframe tbody tr th {\n",
              "        vertical-align: top;\n",
              "    }\n",
              "\n",
              "    .dataframe thead th {\n",
              "        text-align: right;\n",
              "    }\n",
              "</style>\n",
              "<table border=\"1\" class=\"dataframe\">\n",
              "  <thead>\n",
              "    <tr style=\"text-align: right;\">\n",
              "      <th></th>\n",
              "      <th>film_id</th>\n",
              "      <th>title</th>\n",
              "    </tr>\n",
              "  </thead>\n",
              "  <tbody>\n",
              "    <tr>\n",
              "      <th>0</th>\n",
              "      <td>1</td>\n",
              "      <td>Academy Dinosaur</td>\n",
              "    </tr>\n",
              "    <tr>\n",
              "      <th>1</th>\n",
              "      <td>2</td>\n",
              "      <td>Ace Goldfinger</td>\n",
              "    </tr>\n",
              "    <tr>\n",
              "      <th>2</th>\n",
              "      <td>3</td>\n",
              "      <td>Adaptation Holes</td>\n",
              "    </tr>\n",
              "    <tr>\n",
              "      <th>3</th>\n",
              "      <td>4</td>\n",
              "      <td>Affair Prejudice</td>\n",
              "    </tr>\n",
              "    <tr>\n",
              "      <th>4</th>\n",
              "      <td>5</td>\n",
              "      <td>African Egg</td>\n",
              "    </tr>\n",
              "  </tbody>\n",
              "</table>\n",
              "</div>"
            ],
            "text/plain": [
              "   film_id             title\n",
              "0        1  Academy Dinosaur\n",
              "1        2    Ace Goldfinger\n",
              "2        3  Adaptation Holes\n",
              "3        4  Affair Prejudice\n",
              "4        5       African Egg"
            ]
          },
          "execution_count": 17,
          "metadata": {},
          "output_type": "execute_result"
        }
      ],
      "source": [
        "query1 = \"select film_id, title from film ORDER by title  FETCH FIRST ROW ONLY;\"\n",
        "# equivalent \n",
        "query2 = \"select film_id, title from film ORDER by title FETCH FIRST 5 ROW ONLY;\"\n",
        "sqlio.read_sql_query(query2,conn)"
      ]
    },
    {
      "cell_type": "code",
      "execution_count": null,
      "id": "247afea3",
      "metadata": {
        "id": "247afea3"
      },
      "outputs": [],
      "source": [
        "### Select the next five films after the first five films sorted by titles"
      ]
    },
    {
      "cell_type": "code",
      "execution_count": null,
      "id": "d93904d4",
      "metadata": {
        "id": "d93904d4",
        "outputId": "c5b9ea46-8559-4855-cf15-94ffb4ac2185"
      },
      "outputs": [
        {
          "data": {
            "text/html": [
              "<div>\n",
              "<style scoped>\n",
              "    .dataframe tbody tr th:only-of-type {\n",
              "        vertical-align: middle;\n",
              "    }\n",
              "\n",
              "    .dataframe tbody tr th {\n",
              "        vertical-align: top;\n",
              "    }\n",
              "\n",
              "    .dataframe thead th {\n",
              "        text-align: right;\n",
              "    }\n",
              "</style>\n",
              "<table border=\"1\" class=\"dataframe\">\n",
              "  <thead>\n",
              "    <tr style=\"text-align: right;\">\n",
              "      <th></th>\n",
              "      <th>film_id</th>\n",
              "      <th>title</th>\n",
              "    </tr>\n",
              "  </thead>\n",
              "  <tbody>\n",
              "    <tr>\n",
              "      <th>0</th>\n",
              "      <td>5</td>\n",
              "      <td>African Egg</td>\n",
              "    </tr>\n",
              "    <tr>\n",
              "      <th>1</th>\n",
              "      <td>6</td>\n",
              "      <td>Agent Truman</td>\n",
              "    </tr>\n",
              "    <tr>\n",
              "      <th>2</th>\n",
              "      <td>7</td>\n",
              "      <td>Airplane Sierra</td>\n",
              "    </tr>\n",
              "    <tr>\n",
              "      <th>3</th>\n",
              "      <td>8</td>\n",
              "      <td>Airport Pollock</td>\n",
              "    </tr>\n",
              "    <tr>\n",
              "      <th>4</th>\n",
              "      <td>9</td>\n",
              "      <td>Alabama Devil</td>\n",
              "    </tr>\n",
              "  </tbody>\n",
              "</table>\n",
              "</div>"
            ],
            "text/plain": [
              "   film_id            title\n",
              "0        5      African Egg\n",
              "1        6     Agent Truman\n",
              "2        7  Airplane Sierra\n",
              "3        8  Airport Pollock\n",
              "4        9    Alabama Devil"
            ]
          },
          "execution_count": 19,
          "metadata": {},
          "output_type": "execute_result"
        }
      ],
      "source": [
        "query1 = \"select film_id, title from film ORDER by title  OFFSET 4 ROWS FETCH FIRST 5 ROW ONLY\";\n",
        "\n",
        "sqlio.read_sql_query(query1,conn)"
      ]
    },
    {
      "cell_type": "markdown",
      "id": "b1bf98f9",
      "metadata": {
        "id": "b1bf98f9"
      },
      "source": [
        "### IN operator\n",
        "1. used with 'where' clause \n",
        "2. used to check if a value matches any value in a list of values"
      ]
    },
    {
      "cell_type": "markdown",
      "id": "8fad977c",
      "metadata": {
        "id": "8fad977c"
      },
      "source": [
        "## Syntex\n",
        "1. **value IN (value1,value2,...)**  : The IN operator returns true if the value matches any value in the list i.e., value1 , value2\n",
        "2. **value IN (SELECT column_name FROM table_name);** - can use a subquery"
      ]
    },
    {
      "cell_type": "code",
      "execution_count": null,
      "id": "fe99345f",
      "metadata": {
        "id": "fe99345f",
        "outputId": "711b3f5b-ff4f-40ee-f146-73bac1e97981"
      },
      "outputs": [
        {
          "data": {
            "text/html": [
              "<div>\n",
              "<style scoped>\n",
              "    .dataframe tbody tr th:only-of-type {\n",
              "        vertical-align: middle;\n",
              "    }\n",
              "\n",
              "    .dataframe tbody tr th {\n",
              "        vertical-align: top;\n",
              "    }\n",
              "\n",
              "    .dataframe thead th {\n",
              "        text-align: right;\n",
              "    }\n",
              "</style>\n",
              "<table border=\"1\" class=\"dataframe\">\n",
              "  <thead>\n",
              "    <tr style=\"text-align: right;\">\n",
              "      <th></th>\n",
              "      <th>customer_id</th>\n",
              "      <th>rental_id</th>\n",
              "      <th>return_date</th>\n",
              "    </tr>\n",
              "  </thead>\n",
              "  <tbody>\n",
              "    <tr>\n",
              "      <th>0</th>\n",
              "      <td>2</td>\n",
              "      <td>15145</td>\n",
              "      <td>2005-08-31 15:51:04</td>\n",
              "    </tr>\n",
              "    <tr>\n",
              "      <th>1</th>\n",
              "      <td>1</td>\n",
              "      <td>15315</td>\n",
              "      <td>2005-08-30 01:51:46</td>\n",
              "    </tr>\n",
              "    <tr>\n",
              "      <th>2</th>\n",
              "      <td>2</td>\n",
              "      <td>14743</td>\n",
              "      <td>2005-08-29 00:18:56</td>\n",
              "    </tr>\n",
              "    <tr>\n",
              "      <th>3</th>\n",
              "      <td>1</td>\n",
              "      <td>15298</td>\n",
              "      <td>2005-08-28 22:49:37</td>\n",
              "    </tr>\n",
              "    <tr>\n",
              "      <th>4</th>\n",
              "      <td>2</td>\n",
              "      <td>14475</td>\n",
              "      <td>2005-08-27 08:59:32</td>\n",
              "    </tr>\n",
              "  </tbody>\n",
              "</table>\n",
              "</div>"
            ],
            "text/plain": [
              "   customer_id  rental_id         return_date\n",
              "0            2      15145 2005-08-31 15:51:04\n",
              "1            1      15315 2005-08-30 01:51:46\n",
              "2            2      14743 2005-08-29 00:18:56\n",
              "3            1      15298 2005-08-28 22:49:37\n",
              "4            2      14475 2005-08-27 08:59:32"
            ]
          },
          "execution_count": 22,
          "metadata": {},
          "output_type": "execute_result"
        }
      ],
      "source": [
        "query1 = \"\"\"SELECT customer_id, rental_id, return_date FROM rental\n",
        "            WHERE customer_id IN (1, 2) \n",
        "            ORDER BY return_date DESC LIMIT 5;\"\"\"   ## added LIMIT to limit the rows\n",
        "\n",
        "sqlio.read_sql_query(query1,conn)"
      ]
    },
    {
      "cell_type": "code",
      "execution_count": null,
      "id": "f70d95d9",
      "metadata": {
        "id": "f70d95d9"
      },
      "outputs": [],
      "source": [
        "## equivalent query using OR operator"
      ]
    },
    {
      "cell_type": "code",
      "execution_count": null,
      "id": "0a5fc969",
      "metadata": {
        "id": "0a5fc969",
        "outputId": "f0bf94b4-b82d-458e-c863-8eb0e6288210"
      },
      "outputs": [
        {
          "data": {
            "text/html": [
              "<div>\n",
              "<style scoped>\n",
              "    .dataframe tbody tr th:only-of-type {\n",
              "        vertical-align: middle;\n",
              "    }\n",
              "\n",
              "    .dataframe tbody tr th {\n",
              "        vertical-align: top;\n",
              "    }\n",
              "\n",
              "    .dataframe thead th {\n",
              "        text-align: right;\n",
              "    }\n",
              "</style>\n",
              "<table border=\"1\" class=\"dataframe\">\n",
              "  <thead>\n",
              "    <tr style=\"text-align: right;\">\n",
              "      <th></th>\n",
              "      <th>customer_id</th>\n",
              "      <th>rental_id</th>\n",
              "      <th>return_date</th>\n",
              "    </tr>\n",
              "  </thead>\n",
              "  <tbody>\n",
              "    <tr>\n",
              "      <th>0</th>\n",
              "      <td>2</td>\n",
              "      <td>15145</td>\n",
              "      <td>2005-08-31 15:51:04</td>\n",
              "    </tr>\n",
              "    <tr>\n",
              "      <th>1</th>\n",
              "      <td>1</td>\n",
              "      <td>15315</td>\n",
              "      <td>2005-08-30 01:51:46</td>\n",
              "    </tr>\n",
              "    <tr>\n",
              "      <th>2</th>\n",
              "      <td>2</td>\n",
              "      <td>14743</td>\n",
              "      <td>2005-08-29 00:18:56</td>\n",
              "    </tr>\n",
              "    <tr>\n",
              "      <th>3</th>\n",
              "      <td>1</td>\n",
              "      <td>15298</td>\n",
              "      <td>2005-08-28 22:49:37</td>\n",
              "    </tr>\n",
              "    <tr>\n",
              "      <th>4</th>\n",
              "      <td>2</td>\n",
              "      <td>14475</td>\n",
              "      <td>2005-08-27 08:59:32</td>\n",
              "    </tr>\n",
              "  </tbody>\n",
              "</table>\n",
              "</div>"
            ],
            "text/plain": [
              "   customer_id  rental_id         return_date\n",
              "0            2      15145 2005-08-31 15:51:04\n",
              "1            1      15315 2005-08-30 01:51:46\n",
              "2            2      14743 2005-08-29 00:18:56\n",
              "3            1      15298 2005-08-28 22:49:37\n",
              "4            2      14475 2005-08-27 08:59:32"
            ]
          },
          "execution_count": 23,
          "metadata": {},
          "output_type": "execute_result"
        }
      ],
      "source": [
        "query1 = \"\"\"SELECT customer_id, rental_id, return_date FROM rental\n",
        "            WHERE customer_id = 1 OR customer_id= 2 \n",
        "            ORDER BY return_date DESC LIMIT 5;\"\"\"   ## added LIMIT to limit the rows\n",
        "\n",
        "sqlio.read_sql_query(query1,conn)"
      ]
    },
    {
      "cell_type": "markdown",
      "id": "97c37e25",
      "metadata": {
        "id": "97c37e25"
      },
      "source": [
        "#### Write a SQL query to find all rentals with the customer id is not 1 or 2."
      ]
    },
    {
      "cell_type": "code",
      "execution_count": null,
      "id": "5a2c994a",
      "metadata": {
        "id": "5a2c994a",
        "outputId": "f91f7470-e16b-4dde-a813-d2be20157e24"
      },
      "outputs": [
        {
          "data": {
            "text/html": [
              "<div>\n",
              "<style scoped>\n",
              "    .dataframe tbody tr th:only-of-type {\n",
              "        vertical-align: middle;\n",
              "    }\n",
              "\n",
              "    .dataframe tbody tr th {\n",
              "        vertical-align: top;\n",
              "    }\n",
              "\n",
              "    .dataframe thead th {\n",
              "        text-align: right;\n",
              "    }\n",
              "</style>\n",
              "<table border=\"1\" class=\"dataframe\">\n",
              "  <thead>\n",
              "    <tr style=\"text-align: right;\">\n",
              "      <th></th>\n",
              "      <th>customer_id</th>\n",
              "      <th>rental_id</th>\n",
              "      <th>return_date</th>\n",
              "    </tr>\n",
              "  </thead>\n",
              "  <tbody>\n",
              "    <tr>\n",
              "      <th>0</th>\n",
              "      <td>479</td>\n",
              "      <td>12101</td>\n",
              "      <td>None</td>\n",
              "    </tr>\n",
              "    <tr>\n",
              "      <th>1</th>\n",
              "      <td>83</td>\n",
              "      <td>11563</td>\n",
              "      <td>None</td>\n",
              "    </tr>\n",
              "    <tr>\n",
              "      <th>2</th>\n",
              "      <td>155</td>\n",
              "      <td>11496</td>\n",
              "      <td>None</td>\n",
              "    </tr>\n",
              "    <tr>\n",
              "      <th>3</th>\n",
              "      <td>335</td>\n",
              "      <td>11541</td>\n",
              "      <td>None</td>\n",
              "    </tr>\n",
              "    <tr>\n",
              "      <th>4</th>\n",
              "      <td>219</td>\n",
              "      <td>11577</td>\n",
              "      <td>None</td>\n",
              "    </tr>\n",
              "  </tbody>\n",
              "</table>\n",
              "</div>"
            ],
            "text/plain": [
              "   customer_id  rental_id return_date\n",
              "0          479      12101        None\n",
              "1           83      11563        None\n",
              "2          155      11496        None\n",
              "3          335      11541        None\n",
              "4          219      11577        None"
            ]
          },
          "execution_count": 26,
          "metadata": {},
          "output_type": "execute_result"
        }
      ],
      "source": [
        "query1 = \"\"\"SELECT customer_id, rental_id, return_date FROM rental\n",
        "            WHERE customer_id NOT IN (1, 2) \n",
        "            ORDER BY return_date DESC LIMIT 5;\"\"\"   ## added LIMIT to limit the rows\n",
        "\n",
        "sqlio.read_sql_query(query1,conn)"
      ]
    },
    {
      "cell_type": "code",
      "execution_count": null,
      "id": "94ca21ba",
      "metadata": {
        "id": "94ca21ba"
      },
      "outputs": [],
      "source": [
        "## Equivalent query without using \"IN\" operator\n",
        "query = \"\"\"SELECT customer_id, rental_id, return_date\n",
        "            FROM rental\n",
        "            WHERE customer_id <> 1 AND customer_id <> 2;\"\"\"\n",
        "\n",
        "sqlio.read_sql_query(query1,conn)"
      ]
    },
    {
      "cell_type": "markdown",
      "id": "c185ba47",
      "metadata": {
        "id": "c185ba47"
      },
      "source": [
        "# BETWEEN operator \n",
        "1. operator to match a value against a range of values"
      ]
    },
    {
      "cell_type": "markdown",
      "id": "1be90399",
      "metadata": {
        "id": "1be90399"
      },
      "source": [
        "#### Syntex\n",
        "1.value BETWEEN low AND high;<br>\n",
        "2.value >= low and value <= high"
      ]
    },
    {
      "cell_type": "code",
      "execution_count": null,
      "id": "274afab5",
      "metadata": {
        "id": "274afab5"
      },
      "outputs": [],
      "source": [
        "### Select payments whose amount is between 8 and 9 USD."
      ]
    },
    {
      "cell_type": "code",
      "execution_count": null,
      "id": "e5426961",
      "metadata": {
        "id": "e5426961",
        "outputId": "1e616fc2-dc18-4e02-f684-0c699b6406f4"
      },
      "outputs": [
        {
          "data": {
            "text/html": [
              "<div>\n",
              "<style scoped>\n",
              "    .dataframe tbody tr th:only-of-type {\n",
              "        vertical-align: middle;\n",
              "    }\n",
              "\n",
              "    .dataframe tbody tr th {\n",
              "        vertical-align: top;\n",
              "    }\n",
              "\n",
              "    .dataframe thead th {\n",
              "        text-align: right;\n",
              "    }\n",
              "</style>\n",
              "<table border=\"1\" class=\"dataframe\">\n",
              "  <thead>\n",
              "    <tr style=\"text-align: right;\">\n",
              "      <th></th>\n",
              "      <th>customer_id</th>\n",
              "      <th>payment_id</th>\n",
              "      <th>amount</th>\n",
              "    </tr>\n",
              "  </thead>\n",
              "  <tbody>\n",
              "    <tr>\n",
              "      <th>0</th>\n",
              "      <td>343</td>\n",
              "      <td>17517</td>\n",
              "      <td>8.99</td>\n",
              "    </tr>\n",
              "    <tr>\n",
              "      <th>1</th>\n",
              "      <td>347</td>\n",
              "      <td>17529</td>\n",
              "      <td>8.99</td>\n",
              "    </tr>\n",
              "    <tr>\n",
              "      <th>2</th>\n",
              "      <td>347</td>\n",
              "      <td>17532</td>\n",
              "      <td>8.99</td>\n",
              "    </tr>\n",
              "    <tr>\n",
              "      <th>3</th>\n",
              "      <td>348</td>\n",
              "      <td>17535</td>\n",
              "      <td>8.99</td>\n",
              "    </tr>\n",
              "    <tr>\n",
              "      <th>4</th>\n",
              "      <td>349</td>\n",
              "      <td>17540</td>\n",
              "      <td>8.99</td>\n",
              "    </tr>\n",
              "  </tbody>\n",
              "</table>\n",
              "</div>"
            ],
            "text/plain": [
              "   customer_id  payment_id  amount\n",
              "0          343       17517    8.99\n",
              "1          347       17529    8.99\n",
              "2          347       17532    8.99\n",
              "3          348       17535    8.99\n",
              "4          349       17540    8.99"
            ]
          },
          "execution_count": 27,
          "metadata": {},
          "output_type": "execute_result"
        }
      ],
      "source": [
        "query1 = \"\"\"select customer_id, payment_id, amount\n",
        "            from payment\n",
        "            where amount BETWEEN 8 AND 9 LIMIT 5\"\"\";\n",
        "sqlio.read_sql_query(query1,conn)"
      ]
    },
    {
      "cell_type": "code",
      "execution_count": null,
      "id": "996347d5",
      "metadata": {
        "id": "996347d5",
        "outputId": "fc47f8d4-1ee9-49c1-e52c-c1db378bfc53"
      },
      "outputs": [
        {
          "data": {
            "text/html": [
              "<div>\n",
              "<style scoped>\n",
              "    .dataframe tbody tr th:only-of-type {\n",
              "        vertical-align: middle;\n",
              "    }\n",
              "\n",
              "    .dataframe tbody tr th {\n",
              "        vertical-align: top;\n",
              "    }\n",
              "\n",
              "    .dataframe thead th {\n",
              "        text-align: right;\n",
              "    }\n",
              "</style>\n",
              "<table border=\"1\" class=\"dataframe\">\n",
              "  <thead>\n",
              "    <tr style=\"text-align: right;\">\n",
              "      <th></th>\n",
              "      <th>customer_id</th>\n",
              "      <th>payment_id</th>\n",
              "      <th>amount</th>\n",
              "    </tr>\n",
              "  </thead>\n",
              "  <tbody>\n",
              "    <tr>\n",
              "      <th>0</th>\n",
              "      <td>341</td>\n",
              "      <td>17503</td>\n",
              "      <td>7.99</td>\n",
              "    </tr>\n",
              "    <tr>\n",
              "      <th>1</th>\n",
              "      <td>341</td>\n",
              "      <td>17504</td>\n",
              "      <td>1.99</td>\n",
              "    </tr>\n",
              "    <tr>\n",
              "      <th>2</th>\n",
              "      <td>341</td>\n",
              "      <td>17505</td>\n",
              "      <td>7.99</td>\n",
              "    </tr>\n",
              "    <tr>\n",
              "      <th>3</th>\n",
              "      <td>341</td>\n",
              "      <td>17506</td>\n",
              "      <td>2.99</td>\n",
              "    </tr>\n",
              "    <tr>\n",
              "      <th>4</th>\n",
              "      <td>341</td>\n",
              "      <td>17507</td>\n",
              "      <td>7.99</td>\n",
              "    </tr>\n",
              "  </tbody>\n",
              "</table>\n",
              "</div>"
            ],
            "text/plain": [
              "   customer_id  payment_id  amount\n",
              "0          341       17503    7.99\n",
              "1          341       17504    1.99\n",
              "2          341       17505    7.99\n",
              "3          341       17506    2.99\n",
              "4          341       17507    7.99"
            ]
          },
          "execution_count": 28,
          "metadata": {},
          "output_type": "execute_result"
        }
      ],
      "source": [
        "query1 = \"\"\"select customer_id, payment_id, amount\n",
        "            from payment\n",
        "            where amount NOT BETWEEN 6 AND 7 \n",
        "            LIMIT 5\"\"\";\n",
        "sqlio.read_sql_query(query1,conn)"
      ]
    },
    {
      "cell_type": "markdown",
      "id": "e12581ef",
      "metadata": {
        "id": "e12581ef"
      },
      "source": [
        "### Like operator\n",
        "1. an operator to query data using pattern matchings\n",
        "2. used in situations where you dont remember full name."
      ]
    },
    {
      "cell_type": "markdown",
      "id": "16993da0",
      "metadata": {
        "id": "16993da0"
      },
      "source": [
        "### Find all the customer names whose first name start with \"Jen\""
      ]
    },
    {
      "cell_type": "code",
      "execution_count": null,
      "id": "a0419715",
      "metadata": {
        "id": "a0419715",
        "outputId": "d68f5b84-cd96-42b2-fbd9-4189ed3e8128"
      },
      "outputs": [
        {
          "data": {
            "text/html": [
              "<div>\n",
              "<style scoped>\n",
              "    .dataframe tbody tr th:only-of-type {\n",
              "        vertical-align: middle;\n",
              "    }\n",
              "\n",
              "    .dataframe tbody tr th {\n",
              "        vertical-align: top;\n",
              "    }\n",
              "\n",
              "    .dataframe thead th {\n",
              "        text-align: right;\n",
              "    }\n",
              "</style>\n",
              "<table border=\"1\" class=\"dataframe\">\n",
              "  <thead>\n",
              "    <tr style=\"text-align: right;\">\n",
              "      <th></th>\n",
              "      <th>first_name</th>\n",
              "      <th>last_name</th>\n",
              "    </tr>\n",
              "  </thead>\n",
              "  <tbody>\n",
              "    <tr>\n",
              "      <th>0</th>\n",
              "      <td>Jennifer</td>\n",
              "      <td>Davis</td>\n",
              "    </tr>\n",
              "    <tr>\n",
              "      <th>1</th>\n",
              "      <td>Jennie</td>\n",
              "      <td>Terry</td>\n",
              "    </tr>\n",
              "    <tr>\n",
              "      <th>2</th>\n",
              "      <td>Jenny</td>\n",
              "      <td>Castro</td>\n",
              "    </tr>\n",
              "  </tbody>\n",
              "</table>\n",
              "</div>"
            ],
            "text/plain": [
              "  first_name last_name\n",
              "0   Jennifer     Davis\n",
              "1     Jennie     Terry\n",
              "2      Jenny    Castro"
            ]
          },
          "execution_count": 32,
          "metadata": {},
          "output_type": "execute_result"
        }
      ],
      "source": [
        "query1 = \"\"\"select first_name, last_name\n",
        "            from customer\n",
        "            where first_name ILIKE 'JEN%'\"\"\";\n",
        "sqlio.read_sql_query(query1,conn)"
      ]
    },
    {
      "cell_type": "markdown",
      "id": "04c8eeed",
      "metadata": {
        "id": "04c8eeed"
      },
      "source": [
        "- % matches any sequence of zero or more chracters.\n",
        "- underscore sign (_) matches any single chracter"
      ]
    },
    {
      "cell_type": "markdown",
      "id": "d6c29b5d",
      "metadata": {
        "id": "d6c29b5d"
      },
      "source": [
        "extensions of LIKE operator\n",
        " - ILIKE operator - matches value case insensitivity"
      ]
    },
    {
      "cell_type": "code",
      "execution_count": null,
      "id": "80787e9b",
      "metadata": {
        "id": "80787e9b",
        "outputId": "322aafd2-ba6c-4c3f-bb87-e7b8f780fe48"
      },
      "outputs": [
        {
          "data": {
            "text/html": [
              "<div>\n",
              "<style scoped>\n",
              "    .dataframe tbody tr th:only-of-type {\n",
              "        vertical-align: middle;\n",
              "    }\n",
              "\n",
              "    .dataframe tbody tr th {\n",
              "        vertical-align: top;\n",
              "    }\n",
              "\n",
              "    .dataframe thead th {\n",
              "        text-align: right;\n",
              "    }\n",
              "</style>\n",
              "<table border=\"1\" class=\"dataframe\">\n",
              "  <thead>\n",
              "    <tr style=\"text-align: right;\">\n",
              "      <th></th>\n",
              "      <th>first_name</th>\n",
              "      <th>last_name</th>\n",
              "    </tr>\n",
              "  </thead>\n",
              "  <tbody>\n",
              "    <tr>\n",
              "      <th>0</th>\n",
              "      <td>Barbara</td>\n",
              "      <td>Jones</td>\n",
              "    </tr>\n",
              "    <tr>\n",
              "      <th>1</th>\n",
              "      <td>Barry</td>\n",
              "      <td>Lovelace</td>\n",
              "    </tr>\n",
              "  </tbody>\n",
              "</table>\n",
              "</div>"
            ],
            "text/plain": [
              "  first_name last_name\n",
              "0    Barbara     Jones\n",
              "1      Barry  Lovelace"
            ]
          },
          "execution_count": 30,
          "metadata": {},
          "output_type": "execute_result"
        }
      ],
      "source": [
        "query1 = \"\"\"select first_name, last_name\n",
        "            from customer\n",
        "            where first_name ILIKE 'BAR%'\"\"\"; \n",
        "sqlio.read_sql_query(query1,conn)"
      ]
    },
    {
      "cell_type": "markdown",
      "id": "b6406b4a",
      "metadata": {
        "id": "b6406b4a"
      },
      "source": [
        "### IS NULL operator \n",
        "- an operator to check if a value is NULL or not."
      ]
    },
    {
      "cell_type": "code",
      "execution_count": null,
      "id": "1952bf54",
      "metadata": {
        "id": "1952bf54",
        "outputId": "08b89007-91fd-4e6d-8126-f59c2f2fc112"
      },
      "outputs": [
        {
          "data": {
            "text/html": [
              "<div>\n",
              "<style scoped>\n",
              "    .dataframe tbody tr th:only-of-type {\n",
              "        vertical-align: middle;\n",
              "    }\n",
              "\n",
              "    .dataframe tbody tr th {\n",
              "        vertical-align: top;\n",
              "    }\n",
              "\n",
              "    .dataframe thead th {\n",
              "        text-align: right;\n",
              "    }\n",
              "</style>\n",
              "<table border=\"1\" class=\"dataframe\">\n",
              "  <thead>\n",
              "    <tr style=\"text-align: right;\">\n",
              "      <th></th>\n",
              "      <th>first_name</th>\n",
              "      <th>last_name</th>\n",
              "    </tr>\n",
              "  </thead>\n",
              "  <tbody>\n",
              "    <tr>\n",
              "      <th>0</th>\n",
              "      <td>Jared</td>\n",
              "      <td>Ely</td>\n",
              "    </tr>\n",
              "    <tr>\n",
              "      <th>1</th>\n",
              "      <td>Mary</td>\n",
              "      <td>Smith</td>\n",
              "    </tr>\n",
              "    <tr>\n",
              "      <th>2</th>\n",
              "      <td>Patricia</td>\n",
              "      <td>Johnson</td>\n",
              "    </tr>\n",
              "    <tr>\n",
              "      <th>3</th>\n",
              "      <td>Linda</td>\n",
              "      <td>Williams</td>\n",
              "    </tr>\n",
              "    <tr>\n",
              "      <th>4</th>\n",
              "      <td>Barbara</td>\n",
              "      <td>Jones</td>\n",
              "    </tr>\n",
              "  </tbody>\n",
              "</table>\n",
              "</div>"
            ],
            "text/plain": [
              "  first_name last_name\n",
              "0      Jared       Ely\n",
              "1       Mary     Smith\n",
              "2   Patricia   Johnson\n",
              "3      Linda  Williams\n",
              "4    Barbara     Jones"
            ]
          },
          "execution_count": 36,
          "metadata": {},
          "output_type": "execute_result"
        }
      ],
      "source": [
        "query1 = \"\"\"select first_name, last_name\n",
        "            from customer\n",
        "            where first_name is not NULL \n",
        "            FETCH NEXT 5 rows only\"\"\"; \n",
        "sqlio.read_sql_query(query1,conn)"
      ]
    },
    {
      "cell_type": "code",
      "execution_count": null,
      "id": "ceb5d336",
      "metadata": {
        "id": "ceb5d336"
      },
      "outputs": [],
      "source": [
        ""
      ]
    }
  ],
  "metadata": {
    "kernelspec": {
      "display_name": "Python 3 (ipykernel)",
      "language": "python",
      "name": "python3"
    },
    "language_info": {
      "codemirror_mode": {
        "name": "ipython",
        "version": 3
      },
      "file_extension": ".py",
      "mimetype": "text/x-python",
      "name": "python",
      "nbconvert_exporter": "python",
      "pygments_lexer": "ipython3",
      "version": "3.9.7"
    },
    "colab": {
      "name": "2. Filtering_Data_PostgreSQL.ipynb",
      "provenance": []
    }
  },
  "nbformat": 4,
  "nbformat_minor": 5
}