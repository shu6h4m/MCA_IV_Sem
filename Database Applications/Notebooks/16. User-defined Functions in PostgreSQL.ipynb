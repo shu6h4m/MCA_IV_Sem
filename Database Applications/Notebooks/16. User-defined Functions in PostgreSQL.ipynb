{
 "cells": [
  {
   "cell_type": "markdown",
   "id": "5898ee44",
   "metadata": {},
   "source": [
    "CREATE FUNCTION is used to develop user-defined function."
   ]
  },
  {
   "cell_type": "raw",
   "id": "a1304c3c",
   "metadata": {},
   "source": [
    "Syntex:\n",
    "\n",
    "create [or replace] function function_name(param_list)\n",
    "   returns return_type \n",
    "   language plpgsql\n",
    "  as\n",
    "$$\n",
    "declare \n",
    "-- variable declaration\n",
    "begin\n",
    " -- logic\n",
    "end;\n",
    "$$"
   ]
  },
  {
   "cell_type": "raw",
   "id": "f77f04cc",
   "metadata": {},
   "source": [
    "- function_name -  name of the function after the create function keyword.\n",
    "- param_list -  parameter list. A function can have zero or many parenthesis.\n",
    "- specify the datatype of the returned value after the returns keyword.\n",
    "- use the language plpgsql to specify the procedural language of the function. Note that PostgreSQL supports many procedural languages, not just plpgsql.\n",
    "- Finally, place a block in the dollar-quoted string constant."
   ]
  },
  {
   "cell_type": "markdown",
   "id": "5da7ad60",
   "metadata": {},
   "source": [
    "Create a function that counts the films whose length between the len_from and len_to parameters"
   ]
  },
  {
   "cell_type": "raw",
   "id": "825d94b7",
   "metadata": {},
   "source": [
    "create function get_film_count(len_from int, len_to int)\n",
    "returns int\n",
    "language plpgsql\n",
    "as\n",
    "$$\n",
    "declare\n",
    "   film_count integer;\n",
    "begin\n",
    "   select count(*) \n",
    "   into film_count\n",
    "   from film\n",
    "   where length between len_from and len_to;\n",
    "   \n",
    "   return film_count;\n",
    "end;\n",
    "$$;"
   ]
  },
  {
   "cell_type": "markdown",
   "id": "cef9f9b0",
   "metadata": {},
   "source": [
    "#### Calling a user-defined function:\n",
    "    \n",
    "PostgreSQL provides three ways to call a user-defined function.\n",
    "* using positional notation\n",
    "* using named notation\n",
    "* using mixed notation"
   ]
  },
  {
   "cell_type": "markdown",
   "id": "91e69282",
   "metadata": {},
   "source": [
    "1) <font color='red'> Using Positional Notation</font>\n",
    "\n",
    "* specify the arguments in the same order as parameters.\n",
    "\n",
    "    select get_film_count(40,90)\n",
    "\n",
    "* You call a function using the positional notation when the function has few parameters.\n",
    "* If the function has many parameters, call it using the named notation since it will make the function call more obvious."
   ]
  },
  {
   "cell_type": "markdown",
   "id": "c4ac85ec",
   "metadata": {},
   "source": [
    "2) <font color='red'> Using Named Notation</font>\n",
    "\n",
    "select get_film_count(len_from=>40, len_to=>90);\n",
    "\n",
    "or\n",
    "select get_film_count(len_from :=40, len_to:=90);\n"
   ]
  },
  {
   "cell_type": "markdown",
   "id": "4fa23fac",
   "metadata": {},
   "source": [
    "3)<font color='red'> Using Mixed notation</font>\n",
    "\n",
    "- combination of positional and named notations.\n",
    "\n",
    "select get_film_count(40, len_to=>90);\n",
    "\n",
    "**below command will produce an error because named arguments can not be used before positional arguments.** \n",
    "\n",
    "select get_film_count(len_from=>40, 90);"
   ]
  },
  {
   "cell_type": "markdown",
   "id": "132cdabb",
   "metadata": {},
   "source": [
    "### PL/pgSQL Function Parameter Modes: IN,OUT, INOUT"
   ]
  },
  {
   "cell_type": "markdown",
   "id": "88263320",
   "metadata": {},
   "source": [
    "The parameter modes determine the behaviour of parameters.\n",
    "\n",
    "PL/pgSQL supports three parameter modes: in,out, and inout.\n",
    "\n",
    "A parameter takes the **IN** mode by default."
   ]
  },
  {
   "cell_type": "markdown",
   "id": "cf3b5be8",
   "metadata": {},
   "source": [
    "<font color='green'> The OUT mode:</font>\n",
    "\n",
    "* The **OUT** parameters are defined as a part of the argument list and are returned back as a part of the result.\n",
    "* The **OUT** parameters are very useful in functions that need to return multiple values."
   ]
  },
  {
   "cell_type": "markdown",
   "id": "a1afbeb2",
   "metadata": {},
   "source": [
    "Write a function to get film statstics such as minimum length, maximum length and average length."
   ]
  },
  {
   "cell_type": "raw",
   "id": "d30d7516",
   "metadata": {},
   "source": [
    "create or replace function get_film_stat(\n",
    "    out min_len int,\n",
    "    out max_len int,\n",
    "    out avg_len numeric) \n",
    "language plpgsql\n",
    "as \n",
    "$$\n",
    "begin\n",
    "  \n",
    "  select min(length),\n",
    "         max(length),\n",
    "\t\t avg(length)::numeric(5,1)\n",
    "  into min_len, max_len, avg_len\n",
    "  from film;\n",
    "\n",
    "end;\n",
    "$$"
   ]
  },
  {
   "cell_type": "markdown",
   "id": "27761079",
   "metadata": {},
   "source": [
    "<font color='green'> Call the function \"get_film_stat\"</font>\n",
    "\n",
    "    select get_film_stat();  ## the output of the above statement is a record.\n",
    "    \n",
    "    select * from get_film_stat(); # give the output as seperated columns."
   ]
  },
  {
   "cell_type": "markdown",
   "id": "e90662b7",
   "metadata": {},
   "source": [
    "<font color='red'> The INOUT mode </font>\n",
    "\n",
    "- combination of in and out modes.\n",
    "- Caller can pass an argument to a function. The function changes the argument and returns the updated value."
   ]
  },
  {
   "cell_type": "markdown",
   "id": "bdc6a184",
   "metadata": {},
   "source": [
    "#### Function to swap two integers"
   ]
  },
  {
   "cell_type": "raw",
   "id": "92484e7e",
   "metadata": {},
   "source": [
    "create or replace function swap(\n",
    "\tinout x int,\n",
    "\tinout y int\n",
    ") \n",
    "language plpgsql\t\n",
    "as $$\n",
    "begin\n",
    "   select x,y into y,x;\n",
    "end; $$;"
   ]
  },
  {
   "cell_type": "markdown",
   "id": "26f25542",
   "metadata": {},
   "source": [
    "<font color='green'> Call the function swap </font>\n",
    "select * from swap(10,20);"
   ]
  },
  {
   "cell_type": "markdown",
   "id": "da5aefea",
   "metadata": {},
   "source": [
    "### PL/pgSQL Function Overloading:\n",
    "* PostgreSQL allows multiple functions to share the same name as long as they have diffrent arguments.\n",
    "* If two or more functions share the same name, the function names are overloaded.\n",
    "* PostgreSQL selects the best candidate function to execute an overloading function based on the function argument list."
   ]
  },
  {
   "cell_type": "markdown",
   "id": "eb7d320c",
   "metadata": {},
   "source": [
    "<font color='red'> Example </font>"
   ]
  },
  {
   "cell_type": "markdown",
   "id": "9375550b",
   "metadata": {},
   "source": [
    "### Write a function to get rental duration on the basis of a customer."
   ]
  },
  {
   "cell_type": "raw",
   "id": "791825f2",
   "metadata": {},
   "source": [
    "create or replace function get_rental_duration(\n",
    "\tp_customer_id integer\n",
    ")\n",
    "returns integer \n",
    "language plpgsql\n",
    "as \n",
    "$$\n",
    "declare \n",
    "\trental_duration integer; \n",
    "begin\n",
    "\tselect \n",
    "\t\tsum(extract(day from return_date - rental_date)) \n",
    "\tinto rental_duration \n",
    "    from rental \n",
    "\twhere customer_id = p_customer_id;\n",
    "\n",
    "\treturn rental_duration;\n",
    "end; $$\n"
   ]
  },
  {
   "cell_type": "markdown",
   "id": "845575bd",
   "metadata": {},
   "source": [
    "<font color='red'> Calling get_rental_duration Function </font>\n",
    "\n",
    "select get_rental_duration(459);"
   ]
  },
  {
   "cell_type": "markdown",
   "id": "9f83e734",
   "metadata": {},
   "source": [
    "Write a function to get the rental duration of a customer from a specific date up to now.\n",
    "\n",
    "Two arguments: p_customer_id INTEGER, p_from_date DATE"
   ]
  },
  {
   "cell_type": "raw",
   "id": "e81b330b",
   "metadata": {},
   "source": [
    "CREATE OR REPLACE FUNCTION get_rental_duration(p_customer_id INTEGER, p_from_date DATE)\n",
    "    RETURNS INTEGER AS $$\n",
    "DECLARE \n",
    "    rental_duration integer;\n",
    "BEGIN\n",
    "    -- get the rental duration based on customer_id and rental date\n",
    "    SELECT INTO rental_duration\n",
    "                SUM( EXTRACT( DAY FROM return_date - rental_date)) \n",
    "    FROM rental \n",
    "    WHERE customer_id= p_customer_id AND \n",
    "          rental_date >= p_from_date;\n",
    "     \n",
    "    RETURN rental_duration;\n",
    "END; $$\n",
    "LANGUAGE plpgsql;"
   ]
  },
  {
   "cell_type": "markdown",
   "id": "c6411f13",
   "metadata": {},
   "source": [
    "#### Pl/pgSQL function overloading and default values"
   ]
  },
  {
   "cell_type": "raw",
   "id": "2c45f955",
   "metadata": {},
   "source": [
    "create or replace function get_rental_duration(\n",
    "\tp_customer_id integer, \n",
    "\tp_from_date date default '2005-01-01'\n",
    ")\n",
    "returns integer\n",
    "language plpgsql\n",
    "as $$\n",
    "declare \n",
    "\trental_duration integer;\n",
    "begin\n",
    "\tselect sum( \n",
    "\t\textract( day from return_date - rental_date)\n",
    "\t) \n",
    "\tinto rental_duration\n",
    "\tfrom rental \n",
    "\twhere customer_id= p_customer_id and \n",
    "\t\t  rental_date >= p_from_date;\n",
    "\t \n",
    "\treturn rental_duration;\n",
    "\n",
    "end; $$"
   ]
  },
  {
   "cell_type": "markdown",
   "id": "69ee6f19",
   "metadata": {},
   "source": [
    "<font color='red'> Calling get_rental_duration function with default values </font>\n",
    "\n",
    "SELECT get_rental_duration(232);\n",
    "\n",
    "The above command will issue an error because PostgreSQL could not chhose the best candidate function to exeecute.\n",
    "\n",
    "Therefore, use a unique function argument list to define overloading functions."
   ]
  },
  {
   "cell_type": "markdown",
   "id": "7ec603b2",
   "metadata": {},
   "source": [
    "#### PostgreSQL functions that return a table. "
   ]
  },
  {
   "cell_type": "raw",
   "id": "3731bfec",
   "metadata": {},
   "source": [
    "create or replace function function_name (\n",
    "   parameter_list\n",
    ") \n",
    "returns table ( column_list ) \n",
    "language plpgsql\n",
    "as $$\n",
    "declare \n",
    "-- variable declaration\n",
    "begin\n",
    "-- body\n",
    "end; $$ "
   ]
  },
  {
   "cell_type": "markdown",
   "id": "a81bb961",
   "metadata": {},
   "source": [
    "Instead of single value, the syntex allows you to return a table with a specified column list."
   ]
  },
  {
   "cell_type": "markdown",
   "id": "8874e867",
   "metadata": {},
   "source": [
    "#### Write a function to return all films whose titles match a particular pattern using ILIKE operator."
   ]
  },
  {
   "cell_type": "raw",
   "id": "854a5be4",
   "metadata": {},
   "source": [
    "create or replace function get_film (\n",
    "  p_pattern varchar\n",
    ") \n",
    "\treturns table (\n",
    "\t\tfilm_title varchar,\n",
    "\t\tfilm_release_year int\n",
    "\t) \n",
    "\tlanguage plpgsql\n",
    "as $$\n",
    "begin\n",
    "\treturn query \n",
    "\t\tselect title, release_year::integer\n",
    "\t\tfrom film\n",
    "\t\twhere title ilike p_pattern;\n",
    "end;\n",
    "$$"
   ]
  },
  {
   "cell_type": "raw",
   "id": "323d29ae",
   "metadata": {},
   "source": [
    "SELECT * FROM get_film ('Al%');\n",
    "\n",
    "or \n",
    "\n",
    "SELECT get_film ('Al%');"
   ]
  },
  {
   "cell_type": "markdown",
   "id": "7d7fcde1",
   "metadata": {},
   "source": [
    "#### PostgreSQL DROP function to remove a function"
   ]
  },
  {
   "cell_type": "raw",
   "id": "95f5a784",
   "metadata": {},
   "source": [
    "drop function [if exists] function_name(argument_list)\n",
    "[cascade | restrict]"
   ]
  },
  {
   "cell_type": "markdown",
   "id": "701c7650",
   "metadata": {},
   "source": [
    "In the above syntax:\n",
    "\n",
    "1. Specify the name of the function that you want to remove after the drop function keywords.\n",
    "2. Use the if exists option if you want to instruct PostgreSQL to issue a notice instead of an error in case the function does not exist.\n",
    "3. Specify the argument list of the function. Because functions can be overloaded, PostgreSQL needs to know which function you want to remove by checking the argument list. \n",
    "\n",
    "If a function is unique within the schema, you do not need to specify the argument list.\n"
   ]
  },
  {
   "cell_type": "markdown",
   "id": "dbe10a47",
   "metadata": {},
   "source": [
    "### PostgreSQL CREATE PROCEDURE"
   ]
  },
  {
   "cell_type": "markdown",
   "id": "55c93b84",
   "metadata": {},
   "source": [
    "<font color='red'> Drawback of user-defined functions:</font> They cannot execute transactions. In other words, inside a user-defined function, you cannot start a transaction, and commit or rollback it."
   ]
  },
  {
   "cell_type": "markdown",
   "id": "b0c2c6ed",
   "metadata": {},
   "source": [
    "PostgreSQL 11 introduced stored procedures that support transactions."
   ]
  },
  {
   "cell_type": "markdown",
   "id": "9afb7531",
   "metadata": {},
   "source": [
    "Syntex:"
   ]
  },
  {
   "cell_type": "raw",
   "id": "e6c882ae",
   "metadata": {},
   "source": [
    "create [or replace] procedure procedure_name(parameter_list)\n",
    "language plpgsql\n",
    "as \n",
    "$$\n",
    "declare\n",
    "-- variable declaration\n",
    "begin\n",
    "-- stored procedure body\n",
    "end; \n",
    "$$"
   ]
  },
  {
   "cell_type": "markdown",
   "id": "38548e71",
   "metadata": {},
   "source": [
    "<font color='red'> Important </font>\n",
    "* Parameters in stored procedures can have the *IN* and *INOUT* modes. \n",
    "* They can not have *OUT* mode."
   ]
  },
  {
   "cell_type": "raw",
   "id": "40fff7d7",
   "metadata": {},
   "source": [
    "A stored procedure does not return a value i.e. You can not use the **return** statement with a value inside a stored procedure like this.\n",
    "\n",
    "    return expression;\n",
    "    \n",
    "However, you can use the return statement without the expression to stop the stored procedure immediatly.\n",
    "    return;\n",
    "    \n",
    "If you want to return a value from a stored procedure, use parameters with the INOUT mode."
   ]
  },
  {
   "cell_type": "markdown",
   "id": "4a9e1b6d",
   "metadata": {},
   "source": [
    "#### Creating a Stored Procedure 'transfer' to transfer  money from one account to anonther."
   ]
  },
  {
   "cell_type": "raw",
   "id": "e3caef4b",
   "metadata": {},
   "source": [
    "create or replace procedure transfer(\n",
    "   sender int,\n",
    "   receiver int, \n",
    "   amount dec\n",
    ")\n",
    "language plpgsql    \n",
    "as $$\n",
    "begin\n",
    "    -- subtracting the amount from the sender's account \n",
    "    update accounts \n",
    "    set balance = balance - amount \n",
    "    where id = sender;\n",
    "\n",
    "    -- adding the amount to the receiver's account\n",
    "    update accounts \n",
    "    set balance = balance + amount \n",
    "    where id = receiver;\n",
    "\n",
    "    commit;\n",
    "end;$$"
   ]
  },
  {
   "cell_type": "markdown",
   "id": "fef8db64",
   "metadata": {},
   "source": [
    "#### Calling a stored procedure"
   ]
  },
  {
   "cell_type": "raw",
   "id": "a7ea036e",
   "metadata": {},
   "source": [
    "call stored_procedure_name(argument_list);"
   ]
  },
  {
   "cell_type": "markdown",
   "id": "c094cf26",
   "metadata": {},
   "source": [
    "select * from transfer(1,2,1000);"
   ]
  },
  {
   "cell_type": "markdown",
   "id": "8655756a",
   "metadata": {},
   "source": [
    "here, \"1\" and \"2\" are sender's id and receiver's id's respectively."
   ]
  },
  {
   "cell_type": "markdown",
   "id": "dbc84d3a",
   "metadata": {},
   "source": [
    "#### PostgreSQL Drop Procedure\n",
    "- removes a stored procedure"
   ]
  },
  {
   "cell_type": "raw",
   "id": "9d0f95ce",
   "metadata": {},
   "source": [
    "Syntex:\n",
    "\n",
    "drop procedure [if exists] procedure_name (argument_list)\n",
    "[cascade | restrict]"
   ]
  },
  {
   "cell_type": "markdown",
   "id": "a92a3424",
   "metadata": {},
   "source": [
    "##### Use a single drop procedure statement to drop multiple procedures."
   ]
  },
  {
   "cell_type": "markdown",
   "id": "ebdb0ea8",
   "metadata": {},
   "source": [
    "drop procedure procedure_1, procedure_2;"
   ]
  },
  {
   "cell_type": "raw",
   "id": "ede4eb4c",
   "metadata": {},
   "source": [
    "If the stored procedure name is not unique, use the argument list to specify which stored procedure you want to drop.\n",
    "\n",
    "drop procedure insert_actor(varchar,varchar);\n"
   ]
  }
 ],
 "metadata": {
  "kernelspec": {
   "display_name": "Python 3 (ipykernel)",
   "language": "python",
   "name": "python3"
  },
  "language_info": {
   "codemirror_mode": {
    "name": "ipython",
    "version": 3
   },
   "file_extension": ".py",
   "mimetype": "text/x-python",
   "name": "python",
   "nbconvert_exporter": "python",
   "pygments_lexer": "ipython3",
   "version": "3.9.7"
  }
 },
 "nbformat": 4,
 "nbformat_minor": 5
}
