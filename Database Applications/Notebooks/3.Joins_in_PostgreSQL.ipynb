{
 "cells": [
  {
   "cell_type": "markdown",
   "id": "6c8c87a8",
   "metadata": {},
   "source": [
    "### PostgreSQL Joins\n",
    "1. used to combine records from two or more tables from a database\n",
    "\n",
    "#### Types of Joins in a Table\n",
    "* The INNER JOIN\n",
    "* The LEFT JOIN\n",
    "* The RIGHT JOIN\n",
    "* The FULL OUTER JOIN\n",
    "\n",
    "#### Some special types of joins:\n",
    "* Natural Join\n",
    "* Cross Join\n",
    "* Self Join"
   ]
  },
  {
   "cell_type": "code",
   "execution_count": 18,
   "id": "416ddc9f",
   "metadata": {},
   "outputs": [],
   "source": [
    "# import necessary library\n",
    "\n",
    "import psycopg2\n",
    "#import library pandas\n",
    "import pandas as pd\n",
    "#import library sqlio\n",
    "import pandas.io.sql as sqlio\n",
    "\n",
    "#create database connection variable \n",
    "conn = psycopg2.connect(user=\"postgres\", password=\"root1234\", host=\"localhost\", database=\"DVDRental\")"
   ]
  },
  {
   "cell_type": "markdown",
   "id": "6c686055",
   "metadata": {},
   "source": [
    "CREATE TABLE basket_a (\n",
    "    a INT PRIMARY KEY,\n",
    "    fruit_a VARCHAR (100) NOT NULL\n",
    ");\n",
    "\n",
    "CREATE TABLE basket_b (\n",
    "    b INT PRIMARY KEY,\n",
    "    fruit_b VARCHAR (100) NOT NULL\n",
    ");\n",
    "\n",
    "INSERT INTO basket_a (a, fruit_a)\n",
    "VALUES\n",
    "    (1, 'Apple'),\n",
    "    (2, 'Orange'),\n",
    "    (3, 'Banana'),\n",
    "    (4, 'Cucumber');\n",
    "\n",
    "INSERT INTO basket_b (b, fruit_b)\n",
    "VALUES\n",
    "    (1, 'Orange'),\n",
    "    (2, 'Apple'),\n",
    "    (3, 'Watermelon'),\n",
    "    (4, 'Pear');\n",
    "    "
   ]
  },
  {
   "cell_type": "code",
   "execution_count": 5,
   "id": "411fa37c",
   "metadata": {},
   "outputs": [
    {
     "data": {
      "text/html": [
       "<div>\n",
       "<style scoped>\n",
       "    .dataframe tbody tr th:only-of-type {\n",
       "        vertical-align: middle;\n",
       "    }\n",
       "\n",
       "    .dataframe tbody tr th {\n",
       "        vertical-align: top;\n",
       "    }\n",
       "\n",
       "    .dataframe thead th {\n",
       "        text-align: right;\n",
       "    }\n",
       "</style>\n",
       "<table border=\"1\" class=\"dataframe\">\n",
       "  <thead>\n",
       "    <tr style=\"text-align: right;\">\n",
       "      <th></th>\n",
       "      <th>a</th>\n",
       "      <th>fruit_a</th>\n",
       "    </tr>\n",
       "  </thead>\n",
       "  <tbody>\n",
       "    <tr>\n",
       "      <th>0</th>\n",
       "      <td>1</td>\n",
       "      <td>Apple</td>\n",
       "    </tr>\n",
       "    <tr>\n",
       "      <th>1</th>\n",
       "      <td>2</td>\n",
       "      <td>Orange</td>\n",
       "    </tr>\n",
       "    <tr>\n",
       "      <th>2</th>\n",
       "      <td>3</td>\n",
       "      <td>Banana</td>\n",
       "    </tr>\n",
       "    <tr>\n",
       "      <th>3</th>\n",
       "      <td>4</td>\n",
       "      <td>Cucumber</td>\n",
       "    </tr>\n",
       "  </tbody>\n",
       "</table>\n",
       "</div>"
      ],
      "text/plain": [
       "   a   fruit_a\n",
       "0  1     Apple\n",
       "1  2    Orange\n",
       "2  3    Banana\n",
       "3  4  Cucumber"
      ]
     },
     "execution_count": 5,
     "metadata": {},
     "output_type": "execute_result"
    }
   ],
   "source": [
    "query = \"\"\"select * from basket_a;\"\"\"   # display all rows from the table basket_a \n",
    "sqlio.read_sql_query(query,conn)"
   ]
  },
  {
   "cell_type": "code",
   "execution_count": 19,
   "id": "3cf7e78e",
   "metadata": {},
   "outputs": [
    {
     "data": {
      "text/html": [
       "<div>\n",
       "<style scoped>\n",
       "    .dataframe tbody tr th:only-of-type {\n",
       "        vertical-align: middle;\n",
       "    }\n",
       "\n",
       "    .dataframe tbody tr th {\n",
       "        vertical-align: top;\n",
       "    }\n",
       "\n",
       "    .dataframe thead th {\n",
       "        text-align: right;\n",
       "    }\n",
       "</style>\n",
       "<table border=\"1\" class=\"dataframe\">\n",
       "  <thead>\n",
       "    <tr style=\"text-align: right;\">\n",
       "      <th></th>\n",
       "      <th>b</th>\n",
       "      <th>fruit_b</th>\n",
       "    </tr>\n",
       "  </thead>\n",
       "  <tbody>\n",
       "    <tr>\n",
       "      <th>0</th>\n",
       "      <td>1</td>\n",
       "      <td>Orange</td>\n",
       "    </tr>\n",
       "    <tr>\n",
       "      <th>1</th>\n",
       "      <td>2</td>\n",
       "      <td>Apple</td>\n",
       "    </tr>\n",
       "    <tr>\n",
       "      <th>2</th>\n",
       "      <td>3</td>\n",
       "      <td>Watermelon</td>\n",
       "    </tr>\n",
       "    <tr>\n",
       "      <th>3</th>\n",
       "      <td>4</td>\n",
       "      <td>Pear</td>\n",
       "    </tr>\n",
       "  </tbody>\n",
       "</table>\n",
       "</div>"
      ],
      "text/plain": [
       "   b     fruit_b\n",
       "0  1      Orange\n",
       "1  2       Apple\n",
       "2  3  Watermelon\n",
       "3  4        Pear"
      ]
     },
     "execution_count": 19,
     "metadata": {},
     "output_type": "execute_result"
    }
   ],
   "source": [
    "query = \"\"\"select * from basket_b;\"\"\"  # display all rows from the table basket_b \n",
    "sqlio.read_sql_query(query,conn)"
   ]
  },
  {
   "cell_type": "markdown",
   "id": "b3b2fed9",
   "metadata": {},
   "source": [
    "### Inner join\n",
    "1. most common type of join\n",
    "2. It returns all matching rows from multiple tables when the join condition is satisfied"
   ]
  },
  {
   "attachments": {
    "image.png": {
     "image/png": "[encoded data removed]"
    }
   },
   "cell_type": "markdown",
   "id": "bf7fe2b1",
   "metadata": {},
   "source": [
    "#### Venn Diagram of Inner Join\n",
    "![image.png](attachment:image.png)"
   ]
  },
  {
   "cell_type": "code",
   "execution_count": 20,
   "id": "6101e56c",
   "metadata": {},
   "outputs": [
    {
     "data": {
      "text/html": [
       "<div>\n",
       "<style scoped>\n",
       "    .dataframe tbody tr th:only-of-type {\n",
       "        vertical-align: middle;\n",
       "    }\n",
       "\n",
       "    .dataframe tbody tr th {\n",
       "        vertical-align: top;\n",
       "    }\n",
       "\n",
       "    .dataframe thead th {\n",
       "        text-align: right;\n",
       "    }\n",
       "</style>\n",
       "<table border=\"1\" class=\"dataframe\">\n",
       "  <thead>\n",
       "    <tr style=\"text-align: right;\">\n",
       "      <th></th>\n",
       "      <th>b</th>\n",
       "      <th>fruit_b</th>\n",
       "    </tr>\n",
       "  </thead>\n",
       "  <tbody>\n",
       "    <tr>\n",
       "      <th>0</th>\n",
       "      <td>1</td>\n",
       "      <td>Orange</td>\n",
       "    </tr>\n",
       "    <tr>\n",
       "      <th>1</th>\n",
       "      <td>2</td>\n",
       "      <td>Apple</td>\n",
       "    </tr>\n",
       "    <tr>\n",
       "      <th>2</th>\n",
       "      <td>3</td>\n",
       "      <td>Watermelon</td>\n",
       "    </tr>\n",
       "    <tr>\n",
       "      <th>3</th>\n",
       "      <td>4</td>\n",
       "      <td>Pear</td>\n",
       "    </tr>\n",
       "  </tbody>\n",
       "</table>\n",
       "</div>"
      ],
      "text/plain": [
       "   b     fruit_b\n",
       "0  1      Orange\n",
       "1  2       Apple\n",
       "2  3  Watermelon\n",
       "3  4        Pear"
      ]
     },
     "execution_count": 20,
     "metadata": {},
     "output_type": "execute_result"
    }
   ],
   "source": [
    "query1 = \"\"\"select a, fruit_a, b, fruit_b\n",
    "            from basket_a\n",
    "            INNER JOIN basket_b\n",
    "            ON fruit_a = fruit_b\"\"\";\n",
    "sqlio.read_sql_query(query,conn)"
   ]
  },
  {
   "cell_type": "markdown",
   "id": "363b11fa",
   "metadata": {},
   "source": [
    "### Left join\n",
    " 1. retrieves all rows from the left table and all matching rows from the right table\n",
    " 2. LEFT JOIN clause is used to select rows from one table that may or may not have corresponding rows in other tables."
   ]
  },
  {
   "attachments": {
    "image.png": {
     "image/png": "[encoded data removed]"
    }
   },
   "cell_type": "markdown",
   "id": "bbe22f48",
   "metadata": {},
   "source": [
    "#### Venn Diagram of Left Join\n",
    "![image.png](attachment:image.png)"
   ]
  },
  {
   "cell_type": "code",
   "execution_count": 21,
   "id": "bf30d085",
   "metadata": {},
   "outputs": [
    {
     "data": {
      "text/html": [
       "<div>\n",
       "<style scoped>\n",
       "    .dataframe tbody tr th:only-of-type {\n",
       "        vertical-align: middle;\n",
       "    }\n",
       "\n",
       "    .dataframe tbody tr th {\n",
       "        vertical-align: top;\n",
       "    }\n",
       "\n",
       "    .dataframe thead th {\n",
       "        text-align: right;\n",
       "    }\n",
       "</style>\n",
       "<table border=\"1\" class=\"dataframe\">\n",
       "  <thead>\n",
       "    <tr style=\"text-align: right;\">\n",
       "      <th></th>\n",
       "      <th>a</th>\n",
       "      <th>fruit_a</th>\n",
       "      <th>b</th>\n",
       "      <th>fruit_b</th>\n",
       "    </tr>\n",
       "  </thead>\n",
       "  <tbody>\n",
       "    <tr>\n",
       "      <th>0</th>\n",
       "      <td>1</td>\n",
       "      <td>Apple</td>\n",
       "      <td>2.0</td>\n",
       "      <td>Apple</td>\n",
       "    </tr>\n",
       "    <tr>\n",
       "      <th>1</th>\n",
       "      <td>2</td>\n",
       "      <td>Orange</td>\n",
       "      <td>1.0</td>\n",
       "      <td>Orange</td>\n",
       "    </tr>\n",
       "    <tr>\n",
       "      <th>2</th>\n",
       "      <td>3</td>\n",
       "      <td>Banana</td>\n",
       "      <td>NaN</td>\n",
       "      <td>None</td>\n",
       "    </tr>\n",
       "    <tr>\n",
       "      <th>3</th>\n",
       "      <td>4</td>\n",
       "      <td>Cucumber</td>\n",
       "      <td>NaN</td>\n",
       "      <td>None</td>\n",
       "    </tr>\n",
       "  </tbody>\n",
       "</table>\n",
       "</div>"
      ],
      "text/plain": [
       "   a   fruit_a    b fruit_b\n",
       "0  1     Apple  2.0   Apple\n",
       "1  2    Orange  1.0  Orange\n",
       "2  3    Banana  NaN    None\n",
       "3  4  Cucumber  NaN    None"
      ]
     },
     "execution_count": 21,
     "metadata": {},
     "output_type": "execute_result"
    }
   ],
   "source": [
    "query = \"\"\"select a, fruit_a, b, fruit_b\n",
    "            from basket_a\n",
    "            LEFT JOIN basket_b \n",
    "            ON fruit_a = fruit_b\"\"\";\n",
    "sqlio.read_sql_query(query,conn)"
   ]
  },
  {
   "cell_type": "markdown",
   "id": "aa41358f",
   "metadata": {},
   "source": [
    "### Left outer join \n",
    "1. Select rows from the left table that do not have matching rows in the right table, \n",
    "2. Use the left join with a WHERE clause. "
   ]
  },
  {
   "cell_type": "code",
   "execution_count": 22,
   "id": "a16774a1",
   "metadata": {},
   "outputs": [
    {
     "data": {
      "text/html": [
       "<div>\n",
       "<style scoped>\n",
       "    .dataframe tbody tr th:only-of-type {\n",
       "        vertical-align: middle;\n",
       "    }\n",
       "\n",
       "    .dataframe tbody tr th {\n",
       "        vertical-align: top;\n",
       "    }\n",
       "\n",
       "    .dataframe thead th {\n",
       "        text-align: right;\n",
       "    }\n",
       "</style>\n",
       "<table border=\"1\" class=\"dataframe\">\n",
       "  <thead>\n",
       "    <tr style=\"text-align: right;\">\n",
       "      <th></th>\n",
       "      <th>a</th>\n",
       "      <th>fruit_a</th>\n",
       "      <th>b</th>\n",
       "      <th>fruit_b</th>\n",
       "    </tr>\n",
       "  </thead>\n",
       "  <tbody>\n",
       "    <tr>\n",
       "      <th>0</th>\n",
       "      <td>3</td>\n",
       "      <td>Banana</td>\n",
       "      <td>None</td>\n",
       "      <td>None</td>\n",
       "    </tr>\n",
       "    <tr>\n",
       "      <th>1</th>\n",
       "      <td>4</td>\n",
       "      <td>Cucumber</td>\n",
       "      <td>None</td>\n",
       "      <td>None</td>\n",
       "    </tr>\n",
       "  </tbody>\n",
       "</table>\n",
       "</div>"
      ],
      "text/plain": [
       "   a   fruit_a     b fruit_b\n",
       "0  3    Banana  None    None\n",
       "1  4  Cucumber  None    None"
      ]
     },
     "execution_count": 22,
     "metadata": {},
     "output_type": "execute_result"
    }
   ],
   "source": [
    "query = \"\"\"select a, fruit_a, b, fruit_b\n",
    "            from basket_a\n",
    "            LEFT JOIN basket_b \n",
    "            ON fruit_a = fruit_b\n",
    "            WHERE b IS NULL;\"\"\"\n",
    "sqlio.read_sql_query(query,conn)"
   ]
  },
  {
   "cell_type": "markdown",
   "id": "510d3a31",
   "metadata": {},
   "source": [
    "### Right join\n",
    "1. retrieves all rows from the right table and all matching rows from the left table"
   ]
  },
  {
   "attachments": {
    "image.png": {
     "image/png": "[encoded data removed]"
    }
   },
   "cell_type": "markdown",
   "id": "d150e8b4",
   "metadata": {},
   "source": [
    "### Venn Diagram of Right Join\n",
    "![image.png](attachment:image.png)"
   ]
  },
  {
   "cell_type": "code",
   "execution_count": 23,
   "id": "cdd99221",
   "metadata": {},
   "outputs": [
    {
     "data": {
      "text/html": [
       "<div>\n",
       "<style scoped>\n",
       "    .dataframe tbody tr th:only-of-type {\n",
       "        vertical-align: middle;\n",
       "    }\n",
       "\n",
       "    .dataframe tbody tr th {\n",
       "        vertical-align: top;\n",
       "    }\n",
       "\n",
       "    .dataframe thead th {\n",
       "        text-align: right;\n",
       "    }\n",
       "</style>\n",
       "<table border=\"1\" class=\"dataframe\">\n",
       "  <thead>\n",
       "    <tr style=\"text-align: right;\">\n",
       "      <th></th>\n",
       "      <th>a</th>\n",
       "      <th>fruit_a</th>\n",
       "      <th>b</th>\n",
       "      <th>fruit_b</th>\n",
       "    </tr>\n",
       "  </thead>\n",
       "  <tbody>\n",
       "    <tr>\n",
       "      <th>0</th>\n",
       "      <td>2.0</td>\n",
       "      <td>Orange</td>\n",
       "      <td>1</td>\n",
       "      <td>Orange</td>\n",
       "    </tr>\n",
       "    <tr>\n",
       "      <th>1</th>\n",
       "      <td>1.0</td>\n",
       "      <td>Apple</td>\n",
       "      <td>2</td>\n",
       "      <td>Apple</td>\n",
       "    </tr>\n",
       "    <tr>\n",
       "      <th>2</th>\n",
       "      <td>NaN</td>\n",
       "      <td>None</td>\n",
       "      <td>3</td>\n",
       "      <td>Watermelon</td>\n",
       "    </tr>\n",
       "    <tr>\n",
       "      <th>3</th>\n",
       "      <td>NaN</td>\n",
       "      <td>None</td>\n",
       "      <td>4</td>\n",
       "      <td>Pear</td>\n",
       "    </tr>\n",
       "  </tbody>\n",
       "</table>\n",
       "</div>"
      ],
      "text/plain": [
       "     a fruit_a  b     fruit_b\n",
       "0  2.0  Orange  1      Orange\n",
       "1  1.0   Apple  2       Apple\n",
       "2  NaN    None  3  Watermelon\n",
       "3  NaN    None  4        Pear"
      ]
     },
     "execution_count": 23,
     "metadata": {},
     "output_type": "execute_result"
    }
   ],
   "source": [
    "query = \"\"\"select a, fruit_a, b, fruit_b\n",
    "           from basket_a\n",
    "           RIGHT JOIN basket_b ON fruit_a = fruit_b;\"\"\"\n",
    "sqlio.read_sql_query(query,conn)"
   ]
  },
  {
   "cell_type": "markdown",
   "id": "0387960b",
   "metadata": {},
   "source": [
    "### Right outer join \n",
    "1. Select rows from the Right table that do not have matching rows in the Left table, \n",
    "2. Use the Right join with a WHERE clause. "
   ]
  },
  {
   "cell_type": "code",
   "execution_count": 24,
   "id": "eee80f12",
   "metadata": {},
   "outputs": [
    {
     "data": {
      "text/html": [
       "<div>\n",
       "<style scoped>\n",
       "    .dataframe tbody tr th:only-of-type {\n",
       "        vertical-align: middle;\n",
       "    }\n",
       "\n",
       "    .dataframe tbody tr th {\n",
       "        vertical-align: top;\n",
       "    }\n",
       "\n",
       "    .dataframe thead th {\n",
       "        text-align: right;\n",
       "    }\n",
       "</style>\n",
       "<table border=\"1\" class=\"dataframe\">\n",
       "  <thead>\n",
       "    <tr style=\"text-align: right;\">\n",
       "      <th></th>\n",
       "      <th>a</th>\n",
       "      <th>fruit_a</th>\n",
       "      <th>b</th>\n",
       "      <th>fruit_b</th>\n",
       "    </tr>\n",
       "  </thead>\n",
       "  <tbody>\n",
       "    <tr>\n",
       "      <th>0</th>\n",
       "      <td>None</td>\n",
       "      <td>None</td>\n",
       "      <td>3</td>\n",
       "      <td>Watermelon</td>\n",
       "    </tr>\n",
       "    <tr>\n",
       "      <th>1</th>\n",
       "      <td>None</td>\n",
       "      <td>None</td>\n",
       "      <td>4</td>\n",
       "      <td>Pear</td>\n",
       "    </tr>\n",
       "  </tbody>\n",
       "</table>\n",
       "</div>"
      ],
      "text/plain": [
       "      a fruit_a  b     fruit_b\n",
       "0  None    None  3  Watermelon\n",
       "1  None    None  4        Pear"
      ]
     },
     "execution_count": 24,
     "metadata": {},
     "output_type": "execute_result"
    }
   ],
   "source": [
    "query = \"\"\"select a, fruit_a, b, fruit_b\n",
    "            from basket_a\n",
    "            RIGHT JOIN basket_b \n",
    "            ON fruit_a = fruit_b\n",
    "            WHERE a IS NULL;\"\"\"\n",
    "sqlio.read_sql_query(query,conn)"
   ]
  },
  {
   "cell_type": "markdown",
   "id": "8894bd6d",
   "metadata": {},
   "source": [
    "### Full outer join \n",
    "1. Returns all rows from the left table as well as the right table.\n",
    "2. While joining the table using FULL OUTER JOIN first, it will join using an inner join"
   ]
  },
  {
   "attachments": {
    "image.png": {
     "image/png": "[encoded data removed]"
    }
   },
   "cell_type": "markdown",
   "id": "be7c5ed7",
   "metadata": {},
   "source": [
    "#### Venn Diagram of Full Outer Join\n",
    "![image.png](attachment:image.png)"
   ]
  },
  {
   "cell_type": "code",
   "execution_count": 25,
   "id": "d344b7cf",
   "metadata": {},
   "outputs": [
    {
     "data": {
      "text/html": [
       "<div>\n",
       "<style scoped>\n",
       "    .dataframe tbody tr th:only-of-type {\n",
       "        vertical-align: middle;\n",
       "    }\n",
       "\n",
       "    .dataframe tbody tr th {\n",
       "        vertical-align: top;\n",
       "    }\n",
       "\n",
       "    .dataframe thead th {\n",
       "        text-align: right;\n",
       "    }\n",
       "</style>\n",
       "<table border=\"1\" class=\"dataframe\">\n",
       "  <thead>\n",
       "    <tr style=\"text-align: right;\">\n",
       "      <th></th>\n",
       "      <th>a</th>\n",
       "      <th>fruit_a</th>\n",
       "      <th>b</th>\n",
       "      <th>fruit_b</th>\n",
       "    </tr>\n",
       "  </thead>\n",
       "  <tbody>\n",
       "    <tr>\n",
       "      <th>0</th>\n",
       "      <td>1.0</td>\n",
       "      <td>Apple</td>\n",
       "      <td>2.0</td>\n",
       "      <td>Apple</td>\n",
       "    </tr>\n",
       "    <tr>\n",
       "      <th>1</th>\n",
       "      <td>2.0</td>\n",
       "      <td>Orange</td>\n",
       "      <td>1.0</td>\n",
       "      <td>Orange</td>\n",
       "    </tr>\n",
       "    <tr>\n",
       "      <th>2</th>\n",
       "      <td>3.0</td>\n",
       "      <td>Banana</td>\n",
       "      <td>NaN</td>\n",
       "      <td>None</td>\n",
       "    </tr>\n",
       "    <tr>\n",
       "      <th>3</th>\n",
       "      <td>4.0</td>\n",
       "      <td>Cucumber</td>\n",
       "      <td>NaN</td>\n",
       "      <td>None</td>\n",
       "    </tr>\n",
       "    <tr>\n",
       "      <th>4</th>\n",
       "      <td>NaN</td>\n",
       "      <td>None</td>\n",
       "      <td>3.0</td>\n",
       "      <td>Watermelon</td>\n",
       "    </tr>\n",
       "    <tr>\n",
       "      <th>5</th>\n",
       "      <td>NaN</td>\n",
       "      <td>None</td>\n",
       "      <td>4.0</td>\n",
       "      <td>Pear</td>\n",
       "    </tr>\n",
       "  </tbody>\n",
       "</table>\n",
       "</div>"
      ],
      "text/plain": [
       "     a   fruit_a    b     fruit_b\n",
       "0  1.0     Apple  2.0       Apple\n",
       "1  2.0    Orange  1.0      Orange\n",
       "2  3.0    Banana  NaN        None\n",
       "3  4.0  Cucumber  NaN        None\n",
       "4  NaN      None  3.0  Watermelon\n",
       "5  NaN      None  4.0        Pear"
      ]
     },
     "execution_count": 25,
     "metadata": {},
     "output_type": "execute_result"
    }
   ],
   "source": [
    "query = \"\"\"select a, fruit_a, b, fruit_b\n",
    "            from basket_a\n",
    "            FULL OUTER JOIN basket_b \n",
    "            ON fruit_a = fruit_b;\"\"\"\n",
    "sqlio.read_sql_query(query,conn)"
   ]
  },
  {
   "cell_type": "markdown",
   "id": "77513539",
   "metadata": {},
   "source": [
    "### Self join\n",
    "1. self-join is a regular join that joins a table to itself using the  INNER JOIN or LEFT JOIN "
   ]
  },
  {
   "cell_type": "markdown",
   "id": "9284b407",
   "metadata": {},
   "source": [
    "Write a query to find all pairs of films that have the same length"
   ]
  },
  {
   "cell_type": "code",
   "execution_count": 16,
   "id": "89c59d0a",
   "metadata": {},
   "outputs": [
    {
     "data": {
      "text/html": [
       "<div>\n",
       "<style scoped>\n",
       "    .dataframe tbody tr th:only-of-type {\n",
       "        vertical-align: middle;\n",
       "    }\n",
       "\n",
       "    .dataframe tbody tr th {\n",
       "        vertical-align: top;\n",
       "    }\n",
       "\n",
       "    .dataframe thead th {\n",
       "        text-align: right;\n",
       "    }\n",
       "</style>\n",
       "<table border=\"1\" class=\"dataframe\">\n",
       "  <thead>\n",
       "    <tr style=\"text-align: right;\">\n",
       "      <th></th>\n",
       "      <th>title</th>\n",
       "      <th>title</th>\n",
       "      <th>length</th>\n",
       "    </tr>\n",
       "  </thead>\n",
       "  <tbody>\n",
       "    <tr>\n",
       "      <th>0</th>\n",
       "      <td>Chamber Italian</td>\n",
       "      <td>Affair Prejudice</td>\n",
       "      <td>117</td>\n",
       "    </tr>\n",
       "    <tr>\n",
       "      <th>1</th>\n",
       "      <td>Chamber Italian</td>\n",
       "      <td>Graffiti Love</td>\n",
       "      <td>117</td>\n",
       "    </tr>\n",
       "    <tr>\n",
       "      <th>2</th>\n",
       "      <td>Chamber Italian</td>\n",
       "      <td>Magic Mallrats</td>\n",
       "      <td>117</td>\n",
       "    </tr>\n",
       "    <tr>\n",
       "      <th>3</th>\n",
       "      <td>Chamber Italian</td>\n",
       "      <td>Resurrection Silverado</td>\n",
       "      <td>117</td>\n",
       "    </tr>\n",
       "    <tr>\n",
       "      <th>4</th>\n",
       "      <td>Grosse Wonderful</td>\n",
       "      <td>Doors President</td>\n",
       "      <td>49</td>\n",
       "    </tr>\n",
       "  </tbody>\n",
       "</table>\n",
       "</div>"
      ],
      "text/plain": [
       "              title                   title  length\n",
       "0   Chamber Italian        Affair Prejudice     117\n",
       "1   Chamber Italian           Graffiti Love     117\n",
       "2   Chamber Italian          Magic Mallrats     117\n",
       "3   Chamber Italian  Resurrection Silverado     117\n",
       "4  Grosse Wonderful         Doors President      49"
      ]
     },
     "execution_count": 16,
     "metadata": {},
     "output_type": "execute_result"
    }
   ],
   "source": [
    "query = \"\"\"select f1.title, f2.title, f1.length\n",
    "            from film f1\n",
    "            INNER JOIN film f2 \n",
    "            ON f1.film_id <> f2.film_id AND  f1.length = f2.length \n",
    "            LIMIT 5;\"\"\"\n",
    "sqlio.read_sql_query(query,conn)"
   ]
  },
  {
   "cell_type": "markdown",
   "id": "8a0e37f2",
   "metadata": {},
   "source": [
    "### Cross Join\n",
    "1. allows to produce a cartesian product of rows in two or more tables\n",
    "2. does not have a join predicate\n",
    "\n",
    "#### Syntex <br>\n",
    "SELECT select_list <br>\n",
    "FROM T1<br>\n",
    "CROSS JOIN T2;\n",
    "\n",
    "**If T1 has n rows and T2 has m rows,  the result set will have nxm rows. For example, the T1 has 1,000 rows and T2 has 1,000 rows, the result set will have 1,000 x 1,000 = 1,000,000 rows**\n"
   ]
  },
  {
   "cell_type": "markdown",
   "id": "7a90f167",
   "metadata": {},
   "source": [
    "### Natural Join\n",
    "1. Creates an implicit join based on the same column names in the joined tables\n",
    "\n",
    "#### Syntex <br>\n",
    "SELECT select_list <br>\n",
    "FROM T1 <br>\n",
    "NATURAL [INNER, LEFT, RIGHT] JOIN T2; "
   ]
  },
  {
   "cell_type": "code",
   "execution_count": 26,
   "id": "c6364492",
   "metadata": {},
   "outputs": [
    {
     "data": {
      "text/html": [
       "<div>\n",
       "<style scoped>\n",
       "    .dataframe tbody tr th:only-of-type {\n",
       "        vertical-align: middle;\n",
       "    }\n",
       "\n",
       "    .dataframe tbody tr th {\n",
       "        vertical-align: top;\n",
       "    }\n",
       "\n",
       "    .dataframe thead th {\n",
       "        text-align: right;\n",
       "    }\n",
       "</style>\n",
       "<table border=\"1\" class=\"dataframe\">\n",
       "  <thead>\n",
       "    <tr style=\"text-align: right;\">\n",
       "      <th></th>\n",
       "      <th>a</th>\n",
       "      <th>fruit_a</th>\n",
       "      <th>b</th>\n",
       "      <th>fruit_b</th>\n",
       "    </tr>\n",
       "  </thead>\n",
       "  <tbody>\n",
       "    <tr>\n",
       "      <th>0</th>\n",
       "      <td>1.0</td>\n",
       "      <td>Apple</td>\n",
       "      <td>2.0</td>\n",
       "      <td>Apple</td>\n",
       "    </tr>\n",
       "    <tr>\n",
       "      <th>1</th>\n",
       "      <td>2.0</td>\n",
       "      <td>Orange</td>\n",
       "      <td>1.0</td>\n",
       "      <td>Orange</td>\n",
       "    </tr>\n",
       "    <tr>\n",
       "      <th>2</th>\n",
       "      <td>3.0</td>\n",
       "      <td>Banana</td>\n",
       "      <td>NaN</td>\n",
       "      <td>None</td>\n",
       "    </tr>\n",
       "    <tr>\n",
       "      <th>3</th>\n",
       "      <td>4.0</td>\n",
       "      <td>Cucumber</td>\n",
       "      <td>NaN</td>\n",
       "      <td>None</td>\n",
       "    </tr>\n",
       "    <tr>\n",
       "      <th>4</th>\n",
       "      <td>NaN</td>\n",
       "      <td>None</td>\n",
       "      <td>3.0</td>\n",
       "      <td>Watermelon</td>\n",
       "    </tr>\n",
       "    <tr>\n",
       "      <th>5</th>\n",
       "      <td>NaN</td>\n",
       "      <td>None</td>\n",
       "      <td>4.0</td>\n",
       "      <td>Pear</td>\n",
       "    </tr>\n",
       "  </tbody>\n",
       "</table>\n",
       "</div>"
      ],
      "text/plain": [
       "     a   fruit_a    b     fruit_b\n",
       "0  1.0     Apple  2.0       Apple\n",
       "1  2.0    Orange  1.0      Orange\n",
       "2  3.0    Banana  NaN        None\n",
       "3  4.0  Cucumber  NaN        None\n",
       "4  NaN      None  3.0  Watermelon\n",
       "5  NaN      None  4.0        Pear"
      ]
     },
     "execution_count": 26,
     "metadata": {},
     "output_type": "execute_result"
    }
   ],
   "source": [
    "query1 = \"\"\"SELECT * FROM products\n",
    "            NATURAL JOIN categories;\"\"\"\n",
    "sqlio.read_sql_query(query,conn)"
   ]
  },
  {
   "cell_type": "markdown",
   "id": "a76dbd64",
   "metadata": {},
   "source": [
    "NATURAL JOIN convenience: It does not require you to specify the join clause because it uses an implicit join clause based on the common column."
   ]
  }
 ],
 "metadata": {
  "kernelspec": {
   "display_name": "Python 3 (ipykernel)",
   "language": "python",
   "name": "python3"
  },
  "language_info": {
   "codemirror_mode": {
    "name": "ipython",
    "version": 3
   },
   "file_extension": ".py",
   "mimetype": "text/x-python",
   "name": "python",
   "nbconvert_exporter": "python",
   "pygments_lexer": "ipython3",
   "version": "3.9.7"
  }
 },
 "nbformat": 4,
 "nbformat_minor": 5
}
