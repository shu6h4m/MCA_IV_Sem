{
 "cells": [
  {
   "cell_type": "markdown",
   "id": "016896b4",
   "metadata": {},
   "source": [
    "#### PostgreSQL Trigger"
   ]
  },
  {
   "cell_type": "code",
   "execution_count": null,
   "id": "7e8c84e7",
   "metadata": {},
   "outputs": [],
   "source": [
    "https://www.softwaretestinghelp.com/triggers-in-pl-sql/"
   ]
  },
  {
   "cell_type": "raw",
   "id": "9739b0e7",
   "metadata": {},
   "source": [
    "1. It is a user-defined function invoked automatically \n",
    "2. It is associated with a table and invoked when an event such as insert, update, or delete occures."
   ]
  },
  {
   "cell_type": "markdown",
   "id": "43d5130e",
   "metadata": {},
   "source": [
    "#### Why you should use triggers?"
   ]
  },
  {
   "cell_type": "markdown",
   "id": "2dbbcf52",
   "metadata": {},
   "source": [
    "Use Cases:\n",
    "1. Automatically generate derived column values\n",
    "2. Enforce complex constraints\n",
    "3. Enforce referential integrity across nodes in a database\n",
    "4. Provide transparent event logging\n",
    "5. Provide auditing\n",
    "- invalidate cache enterie"
   ]
  },
  {
   "cell_type": "markdown",
   "id": "34fd0c40",
   "metadata": {},
   "source": [
    "##### CREATE Trigger"
   ]
  },
  {
   "cell_type": "raw",
   "id": "eb705634",
   "metadata": {},
   "source": [
    "To create a new trigger in PostgreSQL, following are the steps:\n",
    "    1. Create a Trigger function using CREATE FUNCTION statement\n",
    "    2. Bind the trigger function by using the CREATE TRIGGER statement"
   ]
  },
  {
   "cell_type": "markdown",
   "id": "e6b24aff",
   "metadata": {},
   "source": [
    "#### Create trigger function syntex"
   ]
  },
  {
   "cell_type": "markdown",
   "id": "b71ff98d",
   "metadata": {},
   "source": [
    "A trigger function is similar to a regular user-defined function.\n",
    "\n",
    "However, a trigger function does not take any arguments and has a return value with the type *trigger*"
   ]
  },
  {
   "cell_type": "raw",
   "id": "fa572681",
   "metadata": {},
   "source": [
    "CREATE FUNCTION trigger_function() \n",
    "   RETURNS TRIGGER \n",
    "   LANGUAGE PLPGSQL\n",
    "AS $$\n",
    "BEGIN\n",
    "   -- trigger logic\n",
    "END;\n",
    "$$"
   ]
  },
  {
   "cell_type": "markdown",
   "id": "3670eda4",
   "metadata": {},
   "source": [
    "After creating a trigger function, bind it to one or more trigger events such as *INSERT*, *UPDATE* and *DELETE*."
   ]
  },
  {
   "cell_type": "markdown",
   "id": "fce91420",
   "metadata": {},
   "source": [
    "#### CREATE TRIGGER statement:"
   ]
  },
  {
   "cell_type": "markdown",
   "id": "01598e8c",
   "metadata": {},
   "source": [
    "Before discussing syntex of Create Trigger, let's discuss types of triggers:"
   ]
  },
  {
   "cell_type": "markdown",
   "id": "0e1af7f5",
   "metadata": {},
   "source": [
    "There are two types of triggers based on the **trigger frequency**:\n",
    "    1. Row-level triggers\n",
    "    2. Statement level triggers\n",
    "    \n",
    "The diffrance between the two kinds are how many times the trigger is invoked and at what time.\n",
    "\n",
    "A row-level trigger is fired for each row.\n",
    "Statement level trigger is fired for each transaction.\n",
    "\n",
    "For example, if you issue an UPDATE statement that affects 20 rows, the row level trigger will be invoked 20 times, while the statement level trigger will be invoked 1 time."
   ]
  },
  {
   "cell_type": "markdown",
   "id": "49bf9a77",
   "metadata": {},
   "source": [
    "##### Categorization on the trigger timing:\n",
    "    1. BEFORE trigger: The trigger is fired before the change is made to the table.\n",
    "    2. AFTER trigger: The trigger is fired after the change is made to the table."
   ]
  },
  {
   "cell_type": "raw",
   "id": "78e3e647",
   "metadata": {},
   "source": [
    "Syntex for creating a trigger:\n",
    "\n",
    "CREATE TRIGGER trigger_name \n",
    "   {BEFORE | AFTER} { event }\n",
    "   ON table_name\n",
    "   [FOR [EACH] { ROW | STATEMENT }]\n",
    "       EXECUTE PROCEDURE trigger_function"
   ]
  },
  {
   "cell_type": "markdown",
   "id": "7a63fdf5",
   "metadata": {},
   "source": [
    "* *event* in the above syntex can be INSERT, DELETE, UPDATE or TRUNCATE.\n",
    "* Also, specify whether its a Row-level trigger or statement-level trigger.\n",
    "  * Row-level trigger is specified by the *FOR EACH ROW* clause.\n",
    "  * Statement-level trigger is specified by the *FOR EACH STATEMENT* clause.\n",
    "  \n",
    "* Specify the name of the trigger function after the *EXECUTE PROCEDURE* keywords."
   ]
  },
  {
   "cell_type": "markdown",
   "id": "606ba419",
   "metadata": {},
   "source": [
    "#### Trigger Arguments:\n",
    "* NEW: Variable holding the new row for INSERT/UPDATE operations in row-level triggers\n",
    "\n",
    "* OLD: Variable holding the old row for UPDATE/DELETE operations in row-level triggers."
   ]
  },
  {
   "cell_type": "markdown",
   "id": "e10a73d1",
   "metadata": {},
   "source": [
    "#### Example:\n",
    "1. Create two tables employee_info and employee_ audits. employee_info contains information about  employees of a company and has fields (id, first_name, last_name). employee_audits has fields (id, employee_id, last_name, changed_on) and updated when the name of an employee changes.\n",
    "\n",
    "2. create a trigger to log the changes in employee_audits table when the name of an employee changes.\n"
   ]
  },
  {
   "cell_type": "markdown",
   "id": "b0603ac7",
   "metadata": {},
   "source": [
    "1. Create two tables employee_info and employee_audits"
   ]
  },
  {
   "cell_type": "raw",
   "id": "e4de0534",
   "metadata": {},
   "source": [
    "Table employee_info:\n",
    "\n",
    "\n",
    "CREATE TABLE employee_info(\n",
    "   id INT GENERATED ALWAYS AS IDENTITY,\n",
    "   first_name VARCHAR(40) NOT NULL,\n",
    "   last_name VARCHAR(40) NOT NULL,\n",
    "   PRIMARY KEY(id)\n",
    ");\n",
    "\n",
    "Table employee_audits:\n",
    "\n",
    "CREATE TABLE employee_audits (\n",
    "   id INT GENERATED ALWAYS AS IDENTITY,\n",
    "   employee_id INT NOT NULL,\n",
    "   last_name VARCHAR(40) NOT NULL,\n",
    "   changed_on TIMESTAMP(6) NOT NULL\n",
    ");"
   ]
  },
  {
   "cell_type": "markdown",
   "id": "03979b71",
   "metadata": {},
   "source": [
    "2. create a function *log_last_name_changes*:"
   ]
  },
  {
   "cell_type": "raw",
   "id": "ce7a06a9",
   "metadata": {},
   "source": [
    "CREATE OR REPLACE FUNCTION log_last_name_changes()\n",
    "  RETURNS TRIGGER \n",
    "  LANGUAGE PLPGSQL\n",
    "  AS\n",
    "$$\n",
    "BEGIN\n",
    "\tIF NEW.last_name <> OLD.last_name THEN\n",
    "\t\t INSERT INTO employee_audits(employee_id,last_name,changed_on)\n",
    "\t\t VALUES(OLD.id,OLD.last_name,now());\n",
    "\tEND IF;\n",
    "\n",
    "\tRETURN NEW;\n",
    "END;\n",
    "$$"
   ]
  },
  {
   "cell_type": "markdown",
   "id": "f47962d3",
   "metadata": {},
   "source": [
    "Above function inserts the old last name into the employee audits table including employee_id and the the time of change."
   ]
  },
  {
   "cell_type": "markdown",
   "id": "c35cef98",
   "metadata": {},
   "source": [
    "The OLD represents the row before update while the NEW represents the new row that will be updated. The OLD.last_name returns the last name before the update and the NEW.last_name returns the new last name"
   ]
  },
  {
   "cell_type": "markdown",
   "id": "2da78a75",
   "metadata": {},
   "source": [
    "3. Bind the trigger function to the employee_info"
   ]
  },
  {
   "cell_type": "raw",
   "id": "c0aaae5e",
   "metadata": {},
   "source": [
    "CREATE TRIGGER last_name_changes\n",
    "  BEFORE UPDATE\n",
    "  ON employee_info\n",
    "  FOR EACH ROW\n",
    "  EXECUTE PROCEDURE log_last_name_changes();"
   ]
  },
  {
   "cell_type": "markdown",
   "id": "fa1922f3",
   "metadata": {},
   "source": [
    "#### DROP TRIGGER:  \n",
    "dropping a trigger from the table"
   ]
  },
  {
   "cell_type": "raw",
   "id": "239329ea",
   "metadata": {},
   "source": [
    "DROP TRIGGER [IF EXISTS] trigger_name \n",
    "ON table_name [ CASCADE | RESTRICT ];"
   ]
  },
  {
   "cell_type": "markdown",
   "id": "a09d0b3e",
   "metadata": {},
   "source": [
    "ALTER TRIGGER\n",
    "* this statement allows you to rename a trigger."
   ]
  },
  {
   "cell_type": "raw",
   "id": "e133c704",
   "metadata": {},
   "source": [
    "Syntex:\n",
    "ALTER TRIGGER trigger_name\n",
    "ON table_name \n",
    "RENAME TO new_trigger_name;"
   ]
  },
  {
   "cell_type": "markdown",
   "id": "1db8aee3",
   "metadata": {},
   "source": [
    "#### Replacing Trigger:"
   ]
  },
  {
   "cell_type": "markdown",
   "id": "222bfec8",
   "metadata": {},
   "source": [
    "* PostgreSQL does not support any statement that allows to modify the trigger defination like the function that will be executed when the trigger is fired.\n",
    "\n",
    "* If you want to replace the DROP TRIGGER and CREATE TRIGGER statements. "
   ]
  },
  {
   "cell_type": "markdown",
   "id": "4d39b2e9",
   "metadata": {},
   "source": [
    "#### DISABLE TRIGGER"
   ]
  },
  {
   "cell_type": "markdown",
   "id": "b5a8ed42",
   "metadata": {},
   "source": [
    "To disable a trigger, use ALTER TABLE DISABLE TRIGGER statement."
   ]
  },
  {
   "cell_type": "raw",
   "id": "f6c1dca5",
   "metadata": {},
   "source": [
    "ALTER TABLE table_name\n",
    "DISABLE TRIGGER trigger_name | ALL"
   ]
  },
  {
   "cell_type": "markdown",
   "id": "e81a9e8d",
   "metadata": {},
   "source": [
    "* specify the name of the table, with which the trigger is associated with, after the ALTER TABLE keywords.\n",
    "* Specify the name of the trigger to disable after the DISABLE TRIGGER keywords or use the ALL keyword to disable all triggers associated with the table."
   ]
  },
  {
   "cell_type": "markdown",
   "id": "2299692c",
   "metadata": {},
   "source": [
    "The disabled trigger will not fire when an event associated with the trigger occurs. However, the trigger still exists in the database."
   ]
  },
  {
   "cell_type": "markdown",
   "id": "5ae04110",
   "metadata": {},
   "source": [
    "ENABLE TRIGGER"
   ]
  },
  {
   "cell_type": "markdown",
   "id": "1d5a3d31",
   "metadata": {},
   "source": [
    "To enable a trigger or all triggers associated with a table, use the ALTER TABLE ENABLE TRIGGER statement."
   ]
  },
  {
   "cell_type": "raw",
   "id": "3ed69905",
   "metadata": {},
   "source": [
    "Syntex:\n",
    "\n",
    "ALTER TABLE table_name\n",
    "ENABLE TRIGGER trigger_name |  ALL;"
   ]
  },
  {
   "cell_type": "markdown",
   "id": "6a890b41",
   "metadata": {},
   "source": [
    "If you want to enable all the triggers associated with a table, use *ALL* option."
   ]
  }
 ],
 "metadata": {
  "kernelspec": {
   "display_name": "Python 3 (ipykernel)",
   "language": "python",
   "name": "python3"
  },
  "language_info": {
   "codemirror_mode": {
    "name": "ipython",
    "version": 3
   },
   "file_extension": ".py",
   "mimetype": "text/x-python",
   "name": "python",
   "nbconvert_exporter": "python",
   "pygments_lexer": "ipython3",
   "version": "3.9.7"
  }
 },
 "nbformat": 4,
 "nbformat_minor": 5
}
